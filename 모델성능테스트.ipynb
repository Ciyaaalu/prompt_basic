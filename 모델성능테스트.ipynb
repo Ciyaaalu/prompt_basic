{
 "cells": [
  {
   "cell_type": "code",
   "execution_count": 2,
   "id": "6fa308e6",
   "metadata": {},
   "outputs": [
    {
     "data": {
      "text/plain": [
       "True"
      ]
     },
     "execution_count": 2,
     "metadata": {},
     "output_type": "execute_result"
    }
   ],
   "source": [
    "from dotenv import load_dotenv\n",
    "import os\n",
    "from anthropic import Anthropic\n",
    "from IPython.display import display, Markdown\n",
    "load_dotenv()"
   ]
  },
  {
   "cell_type": "code",
   "execution_count": 3,
   "id": "75db897e",
   "metadata": {},
   "outputs": [],
   "source": [
    "client = Anthropic(api_key=os.getenv(\"ANTHTOPIC_API_KEY\"))"
   ]
  },
  {
   "cell_type": "code",
   "execution_count": 11,
   "id": "8a374229",
   "metadata": {},
   "outputs": [],
   "source": [
    "from IPython.display import display, Markdown\n",
    "\n",
    "def compare_models():\n",
    "    models = [\"claude-3-haiku-20240307\", \"claude-3-5-sonnet-20240620\", \"claude-3-opus-20240229\"]\n",
    "    task = \"\"\" \n",
    "문제 해결.\n",
    "<문제>\n",
    "4명 중 3명은 진실을 말하고, 1명은 거짓말 중.\n",
    "A: B가 범인\n",
    "B: C가 범인\n",
    "C: D가 범인\n",
    "D: C가 범인\n",
    "</문제>\n",
    "이 문제를 해결할 수 없으면 '풀이 불가' 라고 말해주세요\n",
    "    \"\"\"\n",
    "\n",
    "    for model in models:\n",
    "        display(Markdown(f\"## 🔍 Model: `{model}`\"))\n",
    "        for run in range(5):\n",
    "            response = client.messages.create(\n",
    "                model=model,\n",
    "                messages=[{\"role\": \"user\", \"content\": task}],\n",
    "                max_tokens=1000,\n",
    "            )\n",
    "            answer = response.content[0].text.strip()\n",
    "            display(Markdown(f\"**{run+1}.** {answer}\"))\n"
   ]
  },
  {
   "cell_type": "code",
   "execution_count": 12,
   "id": "3e22f513",
   "metadata": {},
   "outputs": [
    {
     "data": {
      "text/markdown": [
       "## 🔍 Model: `claude-3-haiku-20240307`"
      ],
      "text/plain": [
       "<IPython.core.display.Markdown object>"
      ]
     },
     "metadata": {},
     "output_type": "display_data"
    },
    {
     "data": {
      "text/markdown": [
       "**1.** 이 문제를 해결할 수 없습니다. 이유는 다음과 같습니다:\n",
       "\n",
       "1. A, B, C, D 중 3명은 진실을 말하고 1명은 거짓말을 하고 있습니다.\n",
       "2. A는 \"B가 범인\"이라고 말했고, B는 \"C가 범인\"이라고 말했습니다. \n",
       "3. C는 \"D가 범인\"이라고 말했고, D는 \"C가 범인\"이라고 말했습니다.\n",
       "4. 이를 종합해보면, 최소 2명의 진술이 서로 모순됩니다. \n",
       "5. 따라서 이 문제에서는 누가 범인인지 확실히 알 수 없습니다.\n",
       "\n",
       "결론적으로, 이 문제는 풀이가 불가능합니다."
      ],
      "text/plain": [
       "<IPython.core.display.Markdown object>"
      ]
     },
     "metadata": {},
     "output_type": "display_data"
    },
    {
     "data": {
      "text/markdown": [
       "**2.** 이 문제는 풀이가 불가능합니다.\n",
       "\n",
       "이유:\n",
       "1. A는 B가 범인이라고 말했지만, B는 C가 범인이라고 말했습니다. 이 두 진술은 서로 모순됩니다.\n",
       "2. B는 C가 범인이라고 말했지만, C는 D가 범인이라고 말했습니다. 이 두 진술 역시 서로 모순됩니다.\n",
       "3. C는 D가 범인이라고 말했지만, D는 C가 범인이라고 말했습니다. 이 두 진술 역시 서로 모순됩니다.\n",
       "\n",
       "따라서 이 문제에는 서로 모순되는 진술들이 포함되어 있어, 범인을 정확히 판단할 수 없습니다. 이 문제는 풀이가 불가능합니다."
      ],
      "text/plain": [
       "<IPython.core.display.Markdown object>"
      ]
     },
     "metadata": {},
     "output_type": "display_data"
    },
    {
     "data": {
      "text/markdown": [
       "**3.** 이 문제는 풀이가 불가능합니다.\n",
       "\n",
       "이유는 다음과 같습니다:\n",
       "\n",
       "1. A, B, C, D 중 3명은 진실을 말하고 1명은 거짓말을 한다고 했습니다.\n",
       "2. A는 \"B가 범인\"이라고 말했고, B는 \"C가 범인\"이라고 말했습니다.\n",
       "3. C는 \"D가 범인\"이라고 말했고, D는 \"C가 범인\"이라고 말했습니다.\n",
       "4. 이렇게 보면 B, C, D의 진술이 서로 모순되고 있습니다.\n",
       "5. 따라서 이 정보만으로는 누가 범인인지 판단할 수 없습니다.\n",
       "\n",
       "따라서 이 문제는 풀이가 불가능합니다."
      ],
      "text/plain": [
       "<IPython.core.display.Markdown object>"
      ]
     },
     "metadata": {},
     "output_type": "display_data"
    },
    {
     "data": {
      "text/markdown": [
       "**4.** 이 문제는 풀이가 불가능합니다.\n",
       "\n",
       "이유는 다음과 같습니다:\n",
       "\n",
       "1. A, B, C, D 중 3명은 진실을 말하고 1명은 거짓말을 하고 있습니다.\n",
       "2. A는 B가 범인이라고 말하고, B는 C가 범인이라고 말합니다.\n",
       "3. C는 D가 범인이라고 말하고, D는 C가 범인이라고 말합니다.\n",
       "4. 만약 A, B, C가 진실을 말하고 D가 거짓말을 한다고 가정하면, C와 D의 말이 서로 모순됩니다.\n",
       "5. 만약 A, B, D가 진실을 말하고 C가 거짓말을 한다고 가정하면, B와 C의 말이 서로 모순됩니다.\n",
       "6. 따라서 이 문제는 해결할 수 없는 모순된 상황이 발생하기 때문에 풀이가 불가능합니다."
      ],
      "text/plain": [
       "<IPython.core.display.Markdown object>"
      ]
     },
     "metadata": {},
     "output_type": "display_data"
    },
    {
     "data": {
      "text/markdown": [
       "**5.** 이 문제는 풀이가 불가능합니다.\n",
       "\n",
       "이유는 다음과 같습니다:\n",
       "\n",
       "1. A: B가 범인\n",
       "   B: C가 범인\n",
       "   C: D가 범인\n",
       "   D: C가 범인\n",
       "\n",
       "2. 위 4명 중 3명은 진실을 말하고 1명은 거짓말을 하고 있습니다.\n",
       "\n",
       "3. 만약 A와 B의 진술이 모두 사실이라면, C와 D의 진술은 거짓말이 되어야 합니다. 그러나 이는 문제의 조건에 부합하지 않습니다.\n",
       "\n",
       "4. 또한 A와 B의 진술이 거짓말이라면, C와 D의 진술이 진실이 되어야 하는데, 이는 서로 모순됩니다.\n",
       "\n",
       "따라서 이 문제를 해결할 수 없으므로 '풀이 불가'라고 말할 수 있습니다."
      ],
      "text/plain": [
       "<IPython.core.display.Markdown object>"
      ]
     },
     "metadata": {},
     "output_type": "display_data"
    },
    {
     "data": {
      "text/markdown": [
       "## 🔍 Model: `claude-3-5-sonnet-20240620`"
      ],
      "text/plain": [
       "<IPython.core.display.Markdown object>"
      ]
     },
     "metadata": {},
     "output_type": "display_data"
    },
    {
     "data": {
      "text/markdown": [
       "**1.** 이 문제는 주어진 정보만으로는 완전히 해결할 수 없습니다. 하지만 몇 가지 결론을 도출할 수 있습니다:\n",
       "\n",
       "1. 4명 중 3명이 진실을 말하고 있으므로, 최소한 2명은 서로 일치하는 진술을 해야 합니다.\n",
       "\n",
       "2. D와 B의 진술이 일치합니다 (둘 다 C가 범인이라고 말함).\n",
       "\n",
       "3. 따라서 C가 범인일 가능성이 가장 높습니다.\n",
       "\n",
       "4. 만약 C가 범인이라면, B와 D는 진실을 말하고 있고, A는 거짓말을 하고 있으며, C도 당연히 거짓말을 하고 있습니다.\n",
       "\n",
       "그러나 이 결론은 완전히 확실하지 않습니다. 예를 들어, D가 거짓말을 하고 있고 다른 모든 사람이 진실을 말하고 있는 경우도 가능합니다. 이 경우 B가 범인일 수 있습니다.\n",
       "\n",
       "결론적으로, 주어진 정보만으로는 범인을 100% 확실하게 특정할 수 없으므로 \"풀이 불가\"라고 할 수 있습니다."
      ],
      "text/plain": [
       "<IPython.core.display.Markdown object>"
      ]
     },
     "metadata": {},
     "output_type": "display_data"
    },
    {
     "data": {
      "text/markdown": [
       "**2.** 이 문제는 주어진 정보만으로는 완전히 해결할 수 없습니다. 하지만 일부 결론을 도출할 수 있습니다:\n",
       "\n",
       "1. 3명이 진실을 말하고 1명이 거짓말을 한다는 조건이 있습니다.\n",
       "\n",
       "2. C와 D가 서로를 범인이라고 말하고 있습니다. 이 둘 중 한 명은 반드시 거짓말을 하고 있어야 합니다.\n",
       "\n",
       "3. 따라서 A와 B 중 한 명은 반드시 진실을 말하고 있습니다.\n",
       "\n",
       "4. 그러나 누가 진실을 말하고 누가 거짓말을 하는지, 그리고 누가 실제 범인인지 정확히 특정할 수 없습니다.\n",
       "\n",
       "결론: 이 문제는 완전한 해결은 불가능하지만, C와 D 중 한 명이 거짓말을 하고 있다는 것과 A와 B 중 적어도 한 명은 진실을 말하고 있다는 것을 알 수 있습니다. 그러나 실제 범인을 특정할 수는 없습니다."
      ],
      "text/plain": [
       "<IPython.core.display.Markdown object>"
      ]
     },
     "metadata": {},
     "output_type": "display_data"
    },
    {
     "data": {
      "text/markdown": [
       "**3.** 이 문제는 주어진 정보만으로는 완전히 해결할 수 없습니다. 그러나 몇 가지 결론을 도출할 수 있습니다:\n",
       "\n",
       "1. 3명이 진실을 말하고 1명이 거짓말을 하므로, 적어도 두 명은 같은 사람을 범인이라고 지목해야 합니다.\n",
       "\n",
       "2. C와 D가 서로를 범인이라고 지목하고 있습니다. 이 둘 중 한 명은 반드시 거짓말을 하고 있습니다.\n",
       "\n",
       "3. B와 C 모두 거짓말을 하고 있을 수는 없습니다. (그렇다면 거짓말하는 사람이 2명이 되기 때문)\n",
       "\n",
       "4. A가 거짓말을 하고 있다면, B, C, D 모두 진실을 말하고 있어야 하는데, 이는 C와 D의 진술이 모순되므로 불가능합니다.\n",
       "\n",
       "따라서, C나 D 중 한 명이 거짓말을 하고 있고, 나머지 세 명은 진실을 말하고 있다고 추론할 수 있습니다. 그러나 C와 D 중 누가 범인인지, 또는 A나 B가 범인인지는 확실히 알 수 없습니다.\n",
       "\n",
       "결론적으로, 이 문제는 완전한 해결이 불가능하며, '풀이 불가'라고 할 수 있습니다."
      ],
      "text/plain": [
       "<IPython.core.display.Markdown object>"
      ]
     },
     "metadata": {},
     "output_type": "display_data"
    },
    {
     "data": {
      "text/markdown": [
       "**4.** 이 문제는 주어진 정보만으로는 풀이가 불가능합니다.\n",
       "\n",
       "이유는 다음과 같습니다:\n",
       "\n",
       "1. 4명 중 3명이 진실을 말하고 1명이 거짓말을 한다는 것은 알고 있습니다.\n",
       "\n",
       "2. 하지만 각 사람의 진술만으로는 누가 진실을 말하고 누가 거짓말을 하는지 확실하게 구분할 수 없습니다.\n",
       "\n",
       "3. 예를 들어, C가 범인이고 D가 진실을 말한다고 가정하면, A, B, D가 진실을 말하고 C가 거짓말을 하는 경우가 성립됩니다. 하지만 D가 범인이고 C가 진실을 말한다고 가정해도 똑같이 A, B, C가 진실을 말하고 D가 거짓말을 하는 경우가 성립됩니다.\n",
       "\n",
       "4. 이처럼 여러 가지 가능성이 존재하며, 주어진 정보만으로는 이 중 어떤 것이 실제 상황인지 확실하게 결정할 수 없습니다.\n",
       "\n",
       "따라서 이 문제는 '풀이 불가'입니다. 문제를 해결하기 위해서는 추가적인 정보나 조건이 필요합니다."
      ],
      "text/plain": [
       "<IPython.core.display.Markdown object>"
      ]
     },
     "metadata": {},
     "output_type": "display_data"
    },
    {
     "data": {
      "text/markdown": [
       "**5.** 이 문제는 주어진 정보만으로는 풀이가 불가능합니다.\n",
       "\n",
       "이유는 다음과 같습니다:\n",
       "\n",
       "1. 4명 중 3명이 진실을 말하고 1명이 거짓말을 한다는 조건이 있습니다.\n",
       "\n",
       "2. 하지만 각 사람의 진술을 살펴보면:\n",
       "   - A와 B는 서로 다른 사람을 지목합니다.\n",
       "   - C와 D는 서로를 지목합니다.\n",
       "\n",
       "3. 이 상황에서 어떤 조합으로도 3명이 진실을 말하고 1명이 거짓말을 하는 경우를 만들 수 없습니다.\n",
       "\n",
       "4. 만약 C나 D 중 한 명이 진실을 말한다면, 다른 한 명은 반드시 거짓말을 하게 됩니다. 그러면 A와 B 중 한 명도 거짓말을 해야 하는데, 이는 주어진 조건(3명 진실, 1명 거짓)과 맞지 않습니다.\n",
       "\n",
       "따라서 주어진 정보만으로는 이 문제를 해결할 수 없으며, 추가적인 정보나 조건이 필요합니다. \n",
       "\n",
       "결론: 풀이 불가"
      ],
      "text/plain": [
       "<IPython.core.display.Markdown object>"
      ]
     },
     "metadata": {},
     "output_type": "display_data"
    },
    {
     "data": {
      "text/markdown": [
       "## 🔍 Model: `claude-3-opus-20240229`"
      ],
      "text/plain": [
       "<IPython.core.display.Markdown object>"
      ]
     },
     "metadata": {},
     "output_type": "display_data"
    },
    {
     "data": {
      "text/markdown": [
       "**1.** 이 문제는 풀 수 있습니다. \n",
       "\n",
       "A가 진실을 말한다면, B는 거짓말쟁이가 되므로 C와 D 중 한 명이 범인이어야 합니다. 하지만 C와 D는 서로를 가리키고 있으므로 이는 모순입니다. 따라서 A는 거짓말쟁이입니다.\n",
       "\n",
       "A가 거짓말쟁이라면, B, C, D는 모두 진실을 말해야 합니다. B와 D의 진술에 따르면 C가 범인이 되지만, C의 진술과는 일치하지 않습니다. 따라서 C는 거짓말쟁이이고, D의 진술이 사실입니다.\n",
       "\n",
       "결론적으로, C가 거짓말쟁이이자 범인입니다."
      ],
      "text/plain": [
       "<IPython.core.display.Markdown object>"
      ]
     },
     "metadata": {},
     "output_type": "display_data"
    },
    {
     "data": {
      "text/markdown": [
       "**2.** A, B, C, D 네 사람의 진술을 분석해 보면,\n",
       "\n",
       "1. 만약 A가 진실을 말한다면, B는 거짓말을 하는 것이고, C와 D 중 한 명이 거짓말을 해야 합니다. 그러나 C와 D는 서로를 가리키고 있으므로, 이는 모순입니다.\n",
       "\n",
       "2. 만약 B가 진실을 말한다면, C는 범인이고, A와 D는 거짓말을 하는 것입니다. 이는 거짓말쟁이가 1명이라는 조건에 부합하지 않습니다.\n",
       "\n",
       "3. 만약 C가 진실을 말한다면, D는 범인이고, A와 B는 거짓말을 하는 것입니다. 이 역시 거짓말쟁이가 1명이라는 조건에 부합하지 않습니다.\n",
       "\n",
       "4. 만약 D가 진실을 말한다면, C는 범인이고, A와 B 중 한 명이 거짓말을 해야 합니다. 이 경우, A가 거짓말을 하고 B가 진실을 말하는 것으로 볼 수 있습니다.\n",
       "\n",
       "따라서, D가 진실을 말하고 C가 범인이라는 것이 유일한 해답입니다."
      ],
      "text/plain": [
       "<IPython.core.display.Markdown object>"
      ]
     },
     "metadata": {},
     "output_type": "display_data"
    },
    {
     "data": {
      "text/markdown": [
       "**3.** 이 문제는 정확히 누가 거짓말을 하고 있는지 알 수 없어 범인을 특정할 수 없습니다. \n",
       "\n",
       "B와 D는 C를 범인이라고 지목하고, A는 B를, C는 D를 범인이라고 지목합니다. \n",
       "\n",
       "진실을 말하는 사람이 3명이라면, 적어도 2명 이상이 동일인을 가리켜야 하는데 그렇지 않으므로 누가 거짓말을 하는지 알 수 없습니다.\n",
       "\n",
       "따라서 주어진 정보만으로는 풀이가 불가능합니다."
      ],
      "text/plain": [
       "<IPython.core.display.Markdown object>"
      ]
     },
     "metadata": {},
     "output_type": "display_data"
    },
    {
     "data": {
      "text/markdown": [
       "**4.** 이 문제는 해결할 수 있습니다. \n",
       "\n",
       "A, B, C, D 중에서 3명이 진실을 말하고 1명이 거짓말을 하고 있습니다. \n",
       "\n",
       "만약 A가 거짓말을 한다면, B는 진실을 말해야 하므로 C가 범인이 됩니다. 하지만 이 경우 C와 D의 진술이 충돌하게 되므로 모순입니다. \n",
       "\n",
       "만약 B가 거짓말을 한다면, C는 진실을 말해야 하므로 D가 범인이 됩니다. 하지만 이 경우에도 C와 D의 진술이 충돌하게 되므로 모순입니다. \n",
       "\n",
       "만약 D가 거짓말을 한다면, C는 진실을 말해야 하므로 D 자신이 범인이 됩니다. 이 경우 모순이 발생하지 않습니다. \n",
       "\n",
       "따라서 D가 유일한 거짓말쟁이이며, C가 범인입니다."
      ],
      "text/plain": [
       "<IPython.core.display.Markdown object>"
      ]
     },
     "metadata": {},
     "output_type": "display_data"
    },
    {
     "data": {
      "text/markdown": [
       "**5.** 이 문제는 풀 수 있습니다. 다음과 같이 해결할 수 있습니다:\n",
       "\n",
       "1. A와 B의 진술이 모순되므로, 둘 중 하나는 거짓말쟁이입니다.\n",
       "2. C와 D의 진술도 모순되므로, 둘 중 하나는 거짓말쟁이입니다.\n",
       "3. 1번과 2번에 따라, 거짓말쟁이는 A와 C 중 하나이거나, B와 D 중 하나입니다.\n",
       "4. 만약 A가 거짓말쟁이라면, B, C, D는 진실을 말하는 것이 되는데, 이는 모순입니다. (B와 C의 진술이 충돌하기 때문)\n",
       "5. 따라서 A는 진실을 말하고, B가 거짓말쟁이라는 결론이 나옵니다.\n",
       "6. B가 거짓말쟁이이므로, C는 진실을 말합니다. \n",
       "7. C가 진실을 말하므로, D는 범인입니다.\n",
       "\n",
       "결론: D가 범인입니다."
      ],
      "text/plain": [
       "<IPython.core.display.Markdown object>"
      ]
     },
     "metadata": {},
     "output_type": "display_data"
    }
   ],
   "source": [
    "compare_models()"
   ]
  },
  {
   "cell_type": "code",
   "execution_count": null,
   "id": "a4f60b4f",
   "metadata": {},
   "outputs": [],
   "source": []
  },
  {
   "cell_type": "markdown",
   "id": "4323f0ec",
   "metadata": {},
   "source": [
    "# 모델 파라미터 테스트"
   ]
  },
  {
   "cell_type": "code",
   "execution_count": 13,
   "id": "883e5172",
   "metadata": {},
   "outputs": [],
   "source": [
    "prompt = \"\"\"\n",
    "당신은 주어진 입력을 바탕으로 인기 있는 소설을 작성하는 임무를 맡았습니다. 목표는 지정된 장르의 관행을 준수하면서 목표 독자층에게 어필하는 매력적이고 시장성 있는 이야기를 만드는 것입니다.\n",
    "\n",
    "<characters> \n",
    "주인공: 지민, 27세 여성. IT 회사 직원이지만 비밀리에 초능력을 가지고 있음. 목표는 능력을 숨기며 평범한 삶을 사는 것.\n",
    "남자 주인공: 준호, 30세 남성. 비밀 요원으로 초능력자들을 찾는 임무를 맡고 있음. 지민에게 끌리지만 의무와 감정 사이에서 갈등함.\n",
    "적대자: 서진, 35세 여성. 초능력자들을 이용해 세계를 지배하려는 비밀 조직의 리더.\n",
    "</characters>\n",
    "\n",
    "<plot> \n",
    "지민의 능력이 우연히 드러나면서 준호의 주목을 받게 됨. 둘은 서로를 경계하다가 점점 가까워지지만, 서진의 조직이 지민을 노리면서 위험에 빠짐. 준호와 지민은 힘을 합쳐 조직에 맞서 싸우며 사랑에 빠짐.\n",
    "</plot> \n",
    "\n",
    "<setting> \n",
    "서울의 번화가. 현대적인 도시 풍경과 첨단 기술, 그리고 숨겨진 초능력 세계가 공존하는 곳.\n",
    "</setting>\n",
    "\n",
    "<point_of_view>\n",
    "3인칭 제한적 시점. 주로 지민과 준호의 관점에서 이야기를 전개.\n",
    "</point_of_view>\n",
    "\n",
    "<conflict> \n",
    "내적 갈등: 지민의 정체성 혼란, 준호의 의무와 감정 사이의 갈등\n",
    "외적 갈등: 서진의 조직과의 대립, 사회의 편견과 두려움\n",
    "</conflict> \n",
    "\n",
    "<theme> \n",
    "진정한 자아 받아들이기, 신뢰와 사랑의 힘, 다름을 인정하는 사회\n",
    "</theme>\n",
    "\n",
    "<structure> \n",
    "3부 구조. 1부: 능력 발각과 만남, 2부: 관계 발전과 위기 고조, 3부: 최종 대결과 해결\n",
    "</structure>\n",
    "\n",
    "<style> \n",
    "현대적이고 감각적인 문체. 때로는 유머러스하게, 때로는 긴장감 있게 서술.\n",
    "</style>\n",
    "\n",
    "<dialogue> \n",
    "\"네 능력이 위험할 수 있어. 하지만 난 널 지키고 싶어.\" (준호)\n",
    "\"내 능력은 저주가 아니야. 이젠 알아. 이건 내 일부야.\" (지민)\n",
    "</dialogue>\n",
    "\n",
    "<description> \n",
    "\"지민의 손끝에서 푸른 빛이 춤추듯 일렁였다. 준호의 눈이 휘둥그레졌다. 서울의 밤하늘보다 더 아름다운 광경이었다.\"\n",
    "</description>\n",
    "\n",
    "<pacing> \n",
    "잔잔한 일상 묘사와 긴박한 액션 신을 번갈아가며 독자의 흥미를 유지.\n",
    "</pacing>\n",
    "\n",
    "위 소설의 구성 요소를 모두 활용해서 소설을 1부만 작성해주세요.\n",
    "\"\"\""
   ]
  },
  {
   "cell_type": "code",
   "execution_count": 14,
   "id": "61cd0624",
   "metadata": {},
   "outputs": [
    {
     "data": {
      "text/plain": [
       "'\\n당신은 주어진 입력을 바탕으로 인기 있는 소설을 작성'"
      ]
     },
     "execution_count": 14,
     "metadata": {},
     "output_type": "execute_result"
    }
   ],
   "source": [
    "prompt[:30]"
   ]
  },
  {
   "cell_type": "code",
   "execution_count": 17,
   "id": "5c38a5a7",
   "metadata": {},
   "outputs": [],
   "source": [
    "response = client.messages.create(\n",
    "    model= \"claude-3-5-sonnet-20240620\",\n",
    "    messages= [\n",
    "        {\"role\": \"user\", \"content\": prompt},\n",
    "    ],\n",
    "    max_tokens=2000,\n",
    "    temperature=0,\n",
    ")"
   ]
  },
  {
   "cell_type": "code",
   "execution_count": 18,
   "id": "ffa1f63b",
   "metadata": {},
   "outputs": [
    {
     "data": {
      "text/markdown": [
       "제 1부: 숨겨진 능력, 예기치 못한 만남\n",
       "\n",
       "서울의 화려한 네온사인이 밤하늘을 수놓는 강남역 부근. 지민은 퇴근길 인파 속에서 한숨을 내쉬며 걸음을 재촉했다. 27년간 숨겨온 비밀이 있다는 것은 늘 무거운 짐이었다. 그녀의 손끝에서 때때로 일렁이는 푸른 빛은 그 누구에게도 보여줄 수 없는 것이었다.\n",
       "\n",
       "\"오늘도 무사히 넘어갔네.\" 지민은 중얼거렸다. \n",
       "\n",
       "그때였다. 갑자기 앞에서 달려오던 남자와 부딪혔다. 놀란 지민의 손에서 순간 푸른 빛이 번쩍였다.\n",
       "\n",
       "\"앗!\" 지민은 급히 손을 주머니에 넣었지만, 이미 늦었다는 걸 알았다.\n",
       "\n",
       "남자는 잠시 멍한 표정을 짓더니 곧 지민을 뚫어지게 쳐다보았다. 키가 크고 단단해 보이는 체격의 그는 30대 초반으로 보였다. \n",
       "\n",
       "\"방금 그건...\" 남자가 입을 열려는 순간, 지민은 재빨리 그를 지나쳐 달렸다.\n",
       "\n",
       "\"기다려요!\" 남자의 외침이 들렸지만, 지민은 뒤도 돌아보지 않고 달렸다.\n",
       "\n",
       "다음 날, 회사에서.\n",
       "\n",
       "\"지민 씨, 새로 온 팀장님 소개할게요.\" \n",
       "\n",
       "고개를 들어보니 어제 그 남자였다. 지민의 얼굴이 창백해졌다.\n",
       "\n",
       "\"안녕하세요. 정준호입니다.\" \n",
       "\n",
       "준호는 마치 어제 일이 없었다는 듯 담담하게 인사했다. 하지만 그의 눈빛은 지민을 향해 날카롭게 빛났다.\n",
       "\n",
       "며칠 후, 야근을 마치고 나오는 지민. 어두운 주차장에서 준호가 그녀를 기다리고 있었다.\n",
       "\n",
       "\"우리 얘기 좀 해야겠어요, 지민 씨.\" \n",
       "\n",
       "지민은 도망칠 곳을 찾듯 주변을 둘러보았다.\n",
       "\n",
       "\"걱정 마세요. 해치려는 게 아닙니다.\" 준호의 목소리가 부드러워졌다. \"당신 같은 분을 찾고 있었어요.\"\n",
       "\n",
       "\"무슨 뜻이죠?\" 지민의 목소리가 떨렸다.\n",
       "\n",
       "\"저도 당신과 비슷한 능력이 있어요.\" 준호가 손을 들어 보이자 희미한 붉은 빛이 일었다. \"우리 같은 사람들을 보호하는 일을 하고 있습니다.\"\n",
       "\n",
       "지민은 놀라움을 감추지 못했다. 27년 만에 처음으로 자신과 같은 이를 만난 것이다.\n",
       "\n",
       "\"하지만 위험한 이들도 있어요. 당신을 노리는 자들이.\" 준호의 표정이 심각해졌다. \"도와주고 싶습니다, 지민 씨.\"\n",
       "\n",
       "그 순간 주차장 한편에서 검은 그림자들이 나타났다. \n",
       "\n",
       "\"조심해요!\" 준호가 소리쳤다.\n",
       "\n",
       "지민의 손에서 푸른 빛이, 준호의 손에서 붉은 빛이 폭발하듯 터져 나왔다. \n",
       "\n",
       "어둠 속에서 차가운 목소리가 들려왔다. \"드디어 찾았군. 서진이 기뻐하시겠어.\"\n",
       "\n",
       "지민과 준호는 등을 맞대고 섰다. 이제 숨길 이유도, 숨을 곳도 없었다. 그들의 새로운 운명이 시작되는 순간이었다."
      ],
      "text/plain": [
       "<IPython.core.display.Markdown object>"
      ]
     },
     "metadata": {},
     "output_type": "display_data"
    }
   ],
   "source": [
    "display(Markdown(response.content[0].text))"
   ]
  },
  {
   "cell_type": "code",
   "execution_count": 19,
   "id": "1a25eb0c",
   "metadata": {},
   "outputs": [
    {
     "data": {
      "text/markdown": [
       "<소설 1부: 숨겨진 능력의 발현>\n",
       "\n",
       "서울의 번화가, 화려한 네온사인과 첨단 기술이 공존하는 도시의 밤. 27세 지민은 IT 회사를 나서며 한숨을 내쉬었다. 그녀의 손끝에서 미세하게 푸른 빛이 일렁였지만, 재빨리 주먹을 쥐어 감췄다.\n",
       "\n",
       "\"또 이러네. 진정해, 지민아.\"\n",
       "\n",
       "그녀는 중얼거리며 발걸음을 재촉했다. 평범한 삶을 살고 싶었지만, 그녀의 초능력은 때때로 통제를 벗어났다. \n",
       "\n",
       "같은 시각, 비밀 요원 준호는 인근 카페에서 임무 보고를 받고 있었다.\n",
       "\n",
       "\"새로운 초능력자가 발견됐습니다. 하지만 아직 정확한 신원은...\"\n",
       "\n",
       "준호의 시선이 우연히 창밖을 지나는 지민에게 멈췄다. 그 순간, 지민의 손에서 푸른 빛이 새어나오는 것을 목격했다.\n",
       "\n",
       "\"잠깐만요.\" 준호가 급히 자리에서 일어났다.\n",
       "\n",
       "지민은 집으로 향하는 길에 갑자기 누군가가 그녀를 쫓는 듯한 기분이 들었다. 불안감에 서둘러 걸음을 옮기던 중, 한적한 골목에서 그녀 앞에 준호가 나타났다.\n",
       "\n",
       "\"안녕하세요. 잠시 이야기 좀 할 수 있을까요?\"\n",
       "\n",
       "지민은 경계의 눈빛으로 준호를 바라보았다. \"무슨 일이시죠?\"\n",
       "\n",
       "\"당신의 능력에 대해 알고 싶습니다.\"\n",
       "\n",
       "그 말에 지민의 얼굴이 창백해졌다. \"무슨 소리인지 모르겠네요.\"\n",
       "\n",
       "준호가 한 걸음 다가섰다. \"방금 전 당신의 손에서 빛이...\"\n",
       "\n",
       "그 순간 지민의 공포와 혼란이 폭발했다. 그녀의 손에서 강렬한 푸른 빛이 터져 나왔고, 준호는 놀라 뒤로 물러섰다.\n",
       "\n",
       "\"제발... 저를 내버려 두세요!\" 지민이 소리쳤다.\n",
       "\n",
       "준호는 당황했지만, 지민의 눈에서 두려움을 읽었다. \"진정해요. 당신을 해치려는 게 아닙니다.\"\n",
       "\n",
       "그때 멀리서 사이렌 소리가 들려왔다. 지민은 공포에 질려 도망치려 했지만, 준호가 그녀의 팔을 잡았다.\n",
       "\n",
       "\"여기 있다간 위험해질 거예요. 저를 믿으세요.\"\n",
       "\n",
       "지민은 잠시 망설였지만, 준호의 진심 어린 눈빛에 마음이 흔들렸다. 그녀는 고개를 끄덕였고, 둘은 함께 어둠 속으로 사라졌다.\n",
       "\n",
       "한편, 도시 한복판의 고층 빌딩 꼭대기. 서진은 창밖을 내다보며 냉소를 지었다.\n",
       "\n",
       "\"드디어 나타났군. 우리가 찾던 바로 그 능력자.\"\n",
       "\n",
       "이렇게 지민의 숨겨진 능력이 세상에 드러나면서, 그녀의 평범했던 일상은 끝이 났다. 준호와의 만남을 계기로 그녀의 삶은 예측할 수 없는 방향으로 흘러가기 시작했고, 서진의 비밀 조직과의 대결은 이제 막 시작되려 하고 있었다."
      ],
      "text/plain": [
       "<IPython.core.display.Markdown object>"
      ]
     },
     "metadata": {},
     "output_type": "display_data"
    }
   ],
   "source": [
    "response = client.messages.create(\n",
    "    model= \"claude-3-5-sonnet-20240620\",\n",
    "    messages= [\n",
    "        {\"role\": \"user\", \"content\": prompt},\n",
    "    ],\n",
    "    max_tokens=2000,\n",
    "    temperature=1,\n",
    ")\n",
    "\n",
    "display(Markdown(response.content[0].text))"
   ]
  },
  {
   "cell_type": "code",
   "execution_count": 20,
   "id": "4b12e27e",
   "metadata": {},
   "outputs": [
    {
     "data": {
      "text/markdown": [
       "제 1부: 숨겨진 능력, 운명적 만남\n",
       "\n",
       "서울의 화려한 네온사인이 밤하늘을 수놓는 강남역 부근. IT 회사에서 막 퇴근한 지민은 분주한 인파 속을 헤치고 걸어가고 있었다"
      ],
      "text/plain": [
       "<IPython.core.display.Markdown object>"
      ]
     },
     "metadata": {},
     "output_type": "display_data"
    }
   ],
   "source": [
    "response = client.messages.create(\n",
    "    model= \"claude-3-5-sonnet-20240620\",\n",
    "    messages= [\n",
    "        {\"role\": \"user\", \"content\": prompt},\n",
    "    ],\n",
    "    max_tokens=100,\n",
    "    temperature=1,\n",
    ")\n",
    "\n",
    "display(Markdown(response.content[0].text))"
   ]
  },
  {
   "cell_type": "code",
   "execution_count": null,
   "id": "8be584c5",
   "metadata": {},
   "outputs": [],
   "source": []
  }
 ],
 "metadata": {
  "kernelspec": {
   "display_name": ".venv",
   "language": "python",
   "name": "python3"
  },
  "language_info": {
   "codemirror_mode": {
    "name": "ipython",
    "version": 3
   },
   "file_extension": ".py",
   "mimetype": "text/x-python",
   "name": "python",
   "nbconvert_exporter": "python",
   "pygments_lexer": "ipython3",
   "version": "3.13.2"
  }
 },
 "nbformat": 4,
 "nbformat_minor": 5
}
