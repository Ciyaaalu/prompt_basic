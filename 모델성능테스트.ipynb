{
 "cells": [
  {
   "cell_type": "code",
   "execution_count": 2,
   "id": "6fa308e6",
   "metadata": {},
   "outputs": [
    {
     "data": {
      "text/plain": [
       "True"
      ]
     },
     "execution_count": 2,
     "metadata": {},
     "output_type": "execute_result"
    }
   ],
   "source": [
    "from dotenv import load_dotenv\n",
    "import os\n",
    "from anthropic import Anthropic\n",
    "from IPython.display import display, Markdown\n",
    "load_dotenv()"
   ]
  },
  {
   "cell_type": "code",
   "execution_count": 3,
   "id": "75db897e",
   "metadata": {},
   "outputs": [],
   "source": [
    "client = Anthropic(api_key=os.getenv(\"ANTHTOPIC_API_KEY\"))"
   ]
  },
  {
   "cell_type": "code",
   "execution_count": 11,
   "id": "8a374229",
   "metadata": {},
   "outputs": [],
   "source": [
    "from IPython.display import display, Markdown\n",
    "\n",
    "def compare_models():\n",
    "    models = [\"claude-3-haiku-20240307\", \"claude-3-5-sonnet-20240620\", \"claude-3-opus-20240229\"]\n",
    "    task = \"\"\" \n",
    "문제 해결.\n",
    "<문제>\n",
    "4명 중 3명은 진실을 말하고, 1명은 거짓말 중.\n",
    "A: B가 범인\n",
    "B: C가 범인\n",
    "C: D가 범인\n",
    "D: C가 범인\n",
    "</문제>\n",
    "이 문제를 해결할 수 없으면 '풀이 불가' 라고 말해주세요\n",
    "    \"\"\"\n",
    "\n",
    "    for model in models:\n",
    "        display(Markdown(f\"## 🔍 Model: `{model}`\"))\n",
    "        for run in range(5):\n",
    "            response = client.messages.create(\n",
    "                model=model,\n",
    "                messages=[{\"role\": \"user\", \"content\": task}],\n",
    "                max_tokens=1000,\n",
    "            )\n",
    "            answer = response.content[0].text.strip()\n",
    "            display(Markdown(f\"**{run+1}.** {answer}\"))\n"
   ]
  },
  {
   "cell_type": "code",
   "execution_count": 12,
   "id": "3e22f513",
   "metadata": {},
   "outputs": [
    {
     "data": {
      "text/markdown": [
       "## 🔍 Model: `claude-3-haiku-20240307`"
      ],
      "text/plain": [
       "<IPython.core.display.Markdown object>"
      ]
     },
     "metadata": {},
     "output_type": "display_data"
    },
    {
     "data": {
      "text/markdown": [
       "**1.** 이 문제를 해결할 수 없습니다. 이유는 다음과 같습니다:\n",
       "\n",
       "1. A, B, C, D 중 3명은 진실을 말하고 1명은 거짓말을 하고 있습니다.\n",
       "2. A는 \"B가 범인\"이라고 말했고, B는 \"C가 범인\"이라고 말했습니다. \n",
       "3. C는 \"D가 범인\"이라고 말했고, D는 \"C가 범인\"이라고 말했습니다.\n",
       "4. 이를 종합해보면, 최소 2명의 진술이 서로 모순됩니다. \n",
       "5. 따라서 이 문제에서는 누가 범인인지 확실히 알 수 없습니다.\n",
       "\n",
       "결론적으로, 이 문제는 풀이가 불가능합니다."
      ],
      "text/plain": [
       "<IPython.core.display.Markdown object>"
      ]
     },
     "metadata": {},
     "output_type": "display_data"
    },
    {
     "data": {
      "text/markdown": [
       "**2.** 이 문제는 풀이가 불가능합니다.\n",
       "\n",
       "이유:\n",
       "1. A는 B가 범인이라고 말했지만, B는 C가 범인이라고 말했습니다. 이 두 진술은 서로 모순됩니다.\n",
       "2. B는 C가 범인이라고 말했지만, C는 D가 범인이라고 말했습니다. 이 두 진술 역시 서로 모순됩니다.\n",
       "3. C는 D가 범인이라고 말했지만, D는 C가 범인이라고 말했습니다. 이 두 진술 역시 서로 모순됩니다.\n",
       "\n",
       "따라서 이 문제에는 서로 모순되는 진술들이 포함되어 있어, 범인을 정확히 판단할 수 없습니다. 이 문제는 풀이가 불가능합니다."
      ],
      "text/plain": [
       "<IPython.core.display.Markdown object>"
      ]
     },
     "metadata": {},
     "output_type": "display_data"
    },
    {
     "data": {
      "text/markdown": [
       "**3.** 이 문제는 풀이가 불가능합니다.\n",
       "\n",
       "이유는 다음과 같습니다:\n",
       "\n",
       "1. A, B, C, D 중 3명은 진실을 말하고 1명은 거짓말을 한다고 했습니다.\n",
       "2. A는 \"B가 범인\"이라고 말했고, B는 \"C가 범인\"이라고 말했습니다.\n",
       "3. C는 \"D가 범인\"이라고 말했고, D는 \"C가 범인\"이라고 말했습니다.\n",
       "4. 이렇게 보면 B, C, D의 진술이 서로 모순되고 있습니다.\n",
       "5. 따라서 이 정보만으로는 누가 범인인지 판단할 수 없습니다.\n",
       "\n",
       "따라서 이 문제는 풀이가 불가능합니다."
      ],
      "text/plain": [
       "<IPython.core.display.Markdown object>"
      ]
     },
     "metadata": {},
     "output_type": "display_data"
    },
    {
     "data": {
      "text/markdown": [
       "**4.** 이 문제는 풀이가 불가능합니다.\n",
       "\n",
       "이유는 다음과 같습니다:\n",
       "\n",
       "1. A, B, C, D 중 3명은 진실을 말하고 1명은 거짓말을 하고 있습니다.\n",
       "2. A는 B가 범인이라고 말하고, B는 C가 범인이라고 말합니다.\n",
       "3. C는 D가 범인이라고 말하고, D는 C가 범인이라고 말합니다.\n",
       "4. 만약 A, B, C가 진실을 말하고 D가 거짓말을 한다고 가정하면, C와 D의 말이 서로 모순됩니다.\n",
       "5. 만약 A, B, D가 진실을 말하고 C가 거짓말을 한다고 가정하면, B와 C의 말이 서로 모순됩니다.\n",
       "6. 따라서 이 문제는 해결할 수 없는 모순된 상황이 발생하기 때문에 풀이가 불가능합니다."
      ],
      "text/plain": [
       "<IPython.core.display.Markdown object>"
      ]
     },
     "metadata": {},
     "output_type": "display_data"
    },
    {
     "data": {
      "text/markdown": [
       "**5.** 이 문제는 풀이가 불가능합니다.\n",
       "\n",
       "이유는 다음과 같습니다:\n",
       "\n",
       "1. A: B가 범인\n",
       "   B: C가 범인\n",
       "   C: D가 범인\n",
       "   D: C가 범인\n",
       "\n",
       "2. 위 4명 중 3명은 진실을 말하고 1명은 거짓말을 하고 있습니다.\n",
       "\n",
       "3. 만약 A와 B의 진술이 모두 사실이라면, C와 D의 진술은 거짓말이 되어야 합니다. 그러나 이는 문제의 조건에 부합하지 않습니다.\n",
       "\n",
       "4. 또한 A와 B의 진술이 거짓말이라면, C와 D의 진술이 진실이 되어야 하는데, 이는 서로 모순됩니다.\n",
       "\n",
       "따라서 이 문제를 해결할 수 없으므로 '풀이 불가'라고 말할 수 있습니다."
      ],
      "text/plain": [
       "<IPython.core.display.Markdown object>"
      ]
     },
     "metadata": {},
     "output_type": "display_data"
    },
    {
     "data": {
      "text/markdown": [
       "## 🔍 Model: `claude-3-5-sonnet-20240620`"
      ],
      "text/plain": [
       "<IPython.core.display.Markdown object>"
      ]
     },
     "metadata": {},
     "output_type": "display_data"
    },
    {
     "data": {
      "text/markdown": [
       "**1.** 이 문제는 주어진 정보만으로는 완전히 해결할 수 없습니다. 하지만 몇 가지 결론을 도출할 수 있습니다:\n",
       "\n",
       "1. 4명 중 3명이 진실을 말하고 있으므로, 최소한 2명은 서로 일치하는 진술을 해야 합니다.\n",
       "\n",
       "2. D와 B의 진술이 일치합니다 (둘 다 C가 범인이라고 말함).\n",
       "\n",
       "3. 따라서 C가 범인일 가능성이 가장 높습니다.\n",
       "\n",
       "4. 만약 C가 범인이라면, B와 D는 진실을 말하고 있고, A는 거짓말을 하고 있으며, C도 당연히 거짓말을 하고 있습니다.\n",
       "\n",
       "그러나 이 결론은 완전히 확실하지 않습니다. 예를 들어, D가 거짓말을 하고 있고 다른 모든 사람이 진실을 말하고 있는 경우도 가능합니다. 이 경우 B가 범인일 수 있습니다.\n",
       "\n",
       "결론적으로, 주어진 정보만으로는 범인을 100% 확실하게 특정할 수 없으므로 \"풀이 불가\"라고 할 수 있습니다."
      ],
      "text/plain": [
       "<IPython.core.display.Markdown object>"
      ]
     },
     "metadata": {},
     "output_type": "display_data"
    },
    {
     "data": {
      "text/markdown": [
       "**2.** 이 문제는 주어진 정보만으로는 완전히 해결할 수 없습니다. 하지만 일부 결론을 도출할 수 있습니다:\n",
       "\n",
       "1. 3명이 진실을 말하고 1명이 거짓말을 한다는 조건이 있습니다.\n",
       "\n",
       "2. C와 D가 서로를 범인이라고 말하고 있습니다. 이 둘 중 한 명은 반드시 거짓말을 하고 있어야 합니다.\n",
       "\n",
       "3. 따라서 A와 B 중 한 명은 반드시 진실을 말하고 있습니다.\n",
       "\n",
       "4. 그러나 누가 진실을 말하고 누가 거짓말을 하는지, 그리고 누가 실제 범인인지 정확히 특정할 수 없습니다.\n",
       "\n",
       "결론: 이 문제는 완전한 해결은 불가능하지만, C와 D 중 한 명이 거짓말을 하고 있다는 것과 A와 B 중 적어도 한 명은 진실을 말하고 있다는 것을 알 수 있습니다. 그러나 실제 범인을 특정할 수는 없습니다."
      ],
      "text/plain": [
       "<IPython.core.display.Markdown object>"
      ]
     },
     "metadata": {},
     "output_type": "display_data"
    },
    {
     "data": {
      "text/markdown": [
       "**3.** 이 문제는 주어진 정보만으로는 완전히 해결할 수 없습니다. 그러나 몇 가지 결론을 도출할 수 있습니다:\n",
       "\n",
       "1. 3명이 진실을 말하고 1명이 거짓말을 하므로, 적어도 두 명은 같은 사람을 범인이라고 지목해야 합니다.\n",
       "\n",
       "2. C와 D가 서로를 범인이라고 지목하고 있습니다. 이 둘 중 한 명은 반드시 거짓말을 하고 있습니다.\n",
       "\n",
       "3. B와 C 모두 거짓말을 하고 있을 수는 없습니다. (그렇다면 거짓말하는 사람이 2명이 되기 때문)\n",
       "\n",
       "4. A가 거짓말을 하고 있다면, B, C, D 모두 진실을 말하고 있어야 하는데, 이는 C와 D의 진술이 모순되므로 불가능합니다.\n",
       "\n",
       "따라서, C나 D 중 한 명이 거짓말을 하고 있고, 나머지 세 명은 진실을 말하고 있다고 추론할 수 있습니다. 그러나 C와 D 중 누가 범인인지, 또는 A나 B가 범인인지는 확실히 알 수 없습니다.\n",
       "\n",
       "결론적으로, 이 문제는 완전한 해결이 불가능하며, '풀이 불가'라고 할 수 있습니다."
      ],
      "text/plain": [
       "<IPython.core.display.Markdown object>"
      ]
     },
     "metadata": {},
     "output_type": "display_data"
    },
    {
     "data": {
      "text/markdown": [
       "**4.** 이 문제는 주어진 정보만으로는 풀이가 불가능합니다.\n",
       "\n",
       "이유는 다음과 같습니다:\n",
       "\n",
       "1. 4명 중 3명이 진실을 말하고 1명이 거짓말을 한다는 것은 알고 있습니다.\n",
       "\n",
       "2. 하지만 각 사람의 진술만으로는 누가 진실을 말하고 누가 거짓말을 하는지 확실하게 구분할 수 없습니다.\n",
       "\n",
       "3. 예를 들어, C가 범인이고 D가 진실을 말한다고 가정하면, A, B, D가 진실을 말하고 C가 거짓말을 하는 경우가 성립됩니다. 하지만 D가 범인이고 C가 진실을 말한다고 가정해도 똑같이 A, B, C가 진실을 말하고 D가 거짓말을 하는 경우가 성립됩니다.\n",
       "\n",
       "4. 이처럼 여러 가지 가능성이 존재하며, 주어진 정보만으로는 이 중 어떤 것이 실제 상황인지 확실하게 결정할 수 없습니다.\n",
       "\n",
       "따라서 이 문제는 '풀이 불가'입니다. 문제를 해결하기 위해서는 추가적인 정보나 조건이 필요합니다."
      ],
      "text/plain": [
       "<IPython.core.display.Markdown object>"
      ]
     },
     "metadata": {},
     "output_type": "display_data"
    },
    {
     "data": {
      "text/markdown": [
       "**5.** 이 문제는 주어진 정보만으로는 풀이가 불가능합니다.\n",
       "\n",
       "이유는 다음과 같습니다:\n",
       "\n",
       "1. 4명 중 3명이 진실을 말하고 1명이 거짓말을 한다는 조건이 있습니다.\n",
       "\n",
       "2. 하지만 각 사람의 진술을 살펴보면:\n",
       "   - A와 B는 서로 다른 사람을 지목합니다.\n",
       "   - C와 D는 서로를 지목합니다.\n",
       "\n",
       "3. 이 상황에서 어떤 조합으로도 3명이 진실을 말하고 1명이 거짓말을 하는 경우를 만들 수 없습니다.\n",
       "\n",
       "4. 만약 C나 D 중 한 명이 진실을 말한다면, 다른 한 명은 반드시 거짓말을 하게 됩니다. 그러면 A와 B 중 한 명도 거짓말을 해야 하는데, 이는 주어진 조건(3명 진실, 1명 거짓)과 맞지 않습니다.\n",
       "\n",
       "따라서 주어진 정보만으로는 이 문제를 해결할 수 없으며, 추가적인 정보나 조건이 필요합니다. \n",
       "\n",
       "결론: 풀이 불가"
      ],
      "text/plain": [
       "<IPython.core.display.Markdown object>"
      ]
     },
     "metadata": {},
     "output_type": "display_data"
    },
    {
     "data": {
      "text/markdown": [
       "## 🔍 Model: `claude-3-opus-20240229`"
      ],
      "text/plain": [
       "<IPython.core.display.Markdown object>"
      ]
     },
     "metadata": {},
     "output_type": "display_data"
    },
    {
     "data": {
      "text/markdown": [
       "**1.** 이 문제는 풀 수 있습니다. \n",
       "\n",
       "A가 진실을 말한다면, B는 거짓말쟁이가 되므로 C와 D 중 한 명이 범인이어야 합니다. 하지만 C와 D는 서로를 가리키고 있으므로 이는 모순입니다. 따라서 A는 거짓말쟁이입니다.\n",
       "\n",
       "A가 거짓말쟁이라면, B, C, D는 모두 진실을 말해야 합니다. B와 D의 진술에 따르면 C가 범인이 되지만, C의 진술과는 일치하지 않습니다. 따라서 C는 거짓말쟁이이고, D의 진술이 사실입니다.\n",
       "\n",
       "결론적으로, C가 거짓말쟁이이자 범인입니다."
      ],
      "text/plain": [
       "<IPython.core.display.Markdown object>"
      ]
     },
     "metadata": {},
     "output_type": "display_data"
    },
    {
     "data": {
      "text/markdown": [
       "**2.** A, B, C, D 네 사람의 진술을 분석해 보면,\n",
       "\n",
       "1. 만약 A가 진실을 말한다면, B는 거짓말을 하는 것이고, C와 D 중 한 명이 거짓말을 해야 합니다. 그러나 C와 D는 서로를 가리키고 있으므로, 이는 모순입니다.\n",
       "\n",
       "2. 만약 B가 진실을 말한다면, C는 범인이고, A와 D는 거짓말을 하는 것입니다. 이는 거짓말쟁이가 1명이라는 조건에 부합하지 않습니다.\n",
       "\n",
       "3. 만약 C가 진실을 말한다면, D는 범인이고, A와 B는 거짓말을 하는 것입니다. 이 역시 거짓말쟁이가 1명이라는 조건에 부합하지 않습니다.\n",
       "\n",
       "4. 만약 D가 진실을 말한다면, C는 범인이고, A와 B 중 한 명이 거짓말을 해야 합니다. 이 경우, A가 거짓말을 하고 B가 진실을 말하는 것으로 볼 수 있습니다.\n",
       "\n",
       "따라서, D가 진실을 말하고 C가 범인이라는 것이 유일한 해답입니다."
      ],
      "text/plain": [
       "<IPython.core.display.Markdown object>"
      ]
     },
     "metadata": {},
     "output_type": "display_data"
    },
    {
     "data": {
      "text/markdown": [
       "**3.** 이 문제는 정확히 누가 거짓말을 하고 있는지 알 수 없어 범인을 특정할 수 없습니다. \n",
       "\n",
       "B와 D는 C를 범인이라고 지목하고, A는 B를, C는 D를 범인이라고 지목합니다. \n",
       "\n",
       "진실을 말하는 사람이 3명이라면, 적어도 2명 이상이 동일인을 가리켜야 하는데 그렇지 않으므로 누가 거짓말을 하는지 알 수 없습니다.\n",
       "\n",
       "따라서 주어진 정보만으로는 풀이가 불가능합니다."
      ],
      "text/plain": [
       "<IPython.core.display.Markdown object>"
      ]
     },
     "metadata": {},
     "output_type": "display_data"
    },
    {
     "data": {
      "text/markdown": [
       "**4.** 이 문제는 해결할 수 있습니다. \n",
       "\n",
       "A, B, C, D 중에서 3명이 진실을 말하고 1명이 거짓말을 하고 있습니다. \n",
       "\n",
       "만약 A가 거짓말을 한다면, B는 진실을 말해야 하므로 C가 범인이 됩니다. 하지만 이 경우 C와 D의 진술이 충돌하게 되므로 모순입니다. \n",
       "\n",
       "만약 B가 거짓말을 한다면, C는 진실을 말해야 하므로 D가 범인이 됩니다. 하지만 이 경우에도 C와 D의 진술이 충돌하게 되므로 모순입니다. \n",
       "\n",
       "만약 D가 거짓말을 한다면, C는 진실을 말해야 하므로 D 자신이 범인이 됩니다. 이 경우 모순이 발생하지 않습니다. \n",
       "\n",
       "따라서 D가 유일한 거짓말쟁이이며, C가 범인입니다."
      ],
      "text/plain": [
       "<IPython.core.display.Markdown object>"
      ]
     },
     "metadata": {},
     "output_type": "display_data"
    },
    {
     "data": {
      "text/markdown": [
       "**5.** 이 문제는 풀 수 있습니다. 다음과 같이 해결할 수 있습니다:\n",
       "\n",
       "1. A와 B의 진술이 모순되므로, 둘 중 하나는 거짓말쟁이입니다.\n",
       "2. C와 D의 진술도 모순되므로, 둘 중 하나는 거짓말쟁이입니다.\n",
       "3. 1번과 2번에 따라, 거짓말쟁이는 A와 C 중 하나이거나, B와 D 중 하나입니다.\n",
       "4. 만약 A가 거짓말쟁이라면, B, C, D는 진실을 말하는 것이 되는데, 이는 모순입니다. (B와 C의 진술이 충돌하기 때문)\n",
       "5. 따라서 A는 진실을 말하고, B가 거짓말쟁이라는 결론이 나옵니다.\n",
       "6. B가 거짓말쟁이이므로, C는 진실을 말합니다. \n",
       "7. C가 진실을 말하므로, D는 범인입니다.\n",
       "\n",
       "결론: D가 범인입니다."
      ],
      "text/plain": [
       "<IPython.core.display.Markdown object>"
      ]
     },
     "metadata": {},
     "output_type": "display_data"
    }
   ],
   "source": [
    "compare_models()"
   ]
  },
  {
   "cell_type": "code",
   "execution_count": null,
   "id": "a4f60b4f",
   "metadata": {},
   "outputs": [],
   "source": []
  }
 ],
 "metadata": {
  "kernelspec": {
   "display_name": ".venv",
   "language": "python",
   "name": "python3"
  },
  "language_info": {
   "codemirror_mode": {
    "name": "ipython",
    "version": 3
   },
   "file_extension": ".py",
   "mimetype": "text/x-python",
   "name": "python",
   "nbconvert_exporter": "python",
   "pygments_lexer": "ipython3",
   "version": "3.13.2"
  }
 },
 "nbformat": 4,
 "nbformat_minor": 5
}
