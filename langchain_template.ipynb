{
 "cells": [
  {
   "cell_type": "code",
   "execution_count": 1,
   "id": "7b115d24",
   "metadata": {},
   "outputs": [],
   "source": [
    "#단일 입력 PromptTemplate: 하나의 변수로 구성된 프롬프트 템플릿 개념과 예시 (예: 제품 설명 문구 생성)\n",
    "#다중 입력 PromptTemplate: 둘 이상의 변수를 사용하는 템플릿 예시 (예: 제목과 키워드로 요약문 생성)\n",
    "#ChatPromptTemplate와 역할 기반 프롬프트: 시스템/사용자 역할별 프롬프트 구성과 ChatPromptTemplate.from_messages() 사용법\n",
    "#PartialPromptTemplate 활용: 프롬프트 일부를 미리 고정하는 부분 포맷팅 개념과 실용 예 (예: 시스템 메시지는 고정하고 사용자 입력만 변경)\n",
    "#프롬프트 출력 및 체인 실행: 완성된 프롬프트를 확인하고 LLM과 연결하여 실행하는 방법 (LangChain Expression Language 기반 prompt | llm 파이프라인 사용)\n",
    "#프롬프트 작성 팁: 프롬프트 템플릿 작성 시 주의할 사항과 실무적인 모범 사례"
   ]
  },
  {
   "cell_type": "markdown",
   "id": "6cceb252",
   "metadata": {},
   "source": [
    "# 단일입력 PromptTemplate"
   ]
  },
  {
   "cell_type": "code",
   "execution_count": 2,
   "id": "b05dfc0a",
   "metadata": {},
   "outputs": [],
   "source": [
    "from langchain.prompts import PromptTemplate"
   ]
  },
  {
   "cell_type": "code",
   "execution_count": 4,
   "id": "0d1e0bfd",
   "metadata": {},
   "outputs": [
    {
     "data": {
      "text/plain": [
       "'0.3.25'"
      ]
     },
     "execution_count": 4,
     "metadata": {},
     "output_type": "execute_result"
    }
   ],
   "source": [
    "import langchain\n",
    "langchain.__version__"
   ]
  },
  {
   "cell_type": "code",
   "execution_count": 11,
   "id": "02ddf87b",
   "metadata": {},
   "outputs": [
    {
     "name": "stdout",
     "output_type": "stream",
     "text": [
      "카피라이터로서 아래 제품의 홍보 문구 50자 이내로 작성. \n",
      "제품명: input_str\n"
     ]
    }
   ],
   "source": [
    "template_str = (\n",
    "    \"카피라이터로서 아래 제품의 홍보 문구 50자 이내로 작성. \\n\"\n",
    "    \"제품명: {product_name}\"\n",
    ")\n",
    "\n",
    "prompt = PromptTemplate.from_template(template_str)\n",
    "\n",
    "input_str= input(\"제품명: \")\n",
    "formatted_prompt = prompt.format(product_name=\"input_str\")\n",
    "print(formatted_prompt)"
   ]
  },
  {
   "cell_type": "code",
   "execution_count": 13,
   "id": "3604d880",
   "metadata": {},
   "outputs": [
    {
     "name": "stdout",
     "output_type": "stream",
     "text": [
      "포터블 게임의 혁신, Nintendo 3DS로 생생한 3D 경험을 즐기세요!\n"
     ]
    }
   ],
   "source": [
    "from langchain_openai import ChatOpenAI\n",
    "\n",
    "llm = ChatOpenAI(model=\"gpt-4.1-nano\", temperature=0)\n",
    "\n",
    "chain = prompt | llm\n",
    "\n",
    "result = chain.invoke({\"product_name\": input_str})\n",
    "print(result.content)"
   ]
  },
  {
   "cell_type": "markdown",
   "id": "e99aa120",
   "metadata": {},
   "source": [
    "# 다중입력 PromptTemplate"
   ]
  },
  {
   "cell_type": "code",
   "execution_count": 17,
   "id": "cd67080f",
   "metadata": {},
   "outputs": [
    {
     "name": "stdout",
     "output_type": "stream",
     "text": [
      "뉴스 기사 제목과 키워드를 보고 요약문 작성. \n",
      "제목 : 인공지능 기술의 발전과 미래\n",
      "키워드 : 머신러닝, 딥러닝, 산업, 혁신, 사회\n",
      "\n"
     ]
    }
   ],
   "source": [
    "multi_template_str = (\n",
    "    \"뉴스 기사 제목과 키워드를 보고 요약문 작성. \\n\"\n",
    "    \"제목 : {title}\\n\"\n",
    "    \"키워드 : {keywords}\\n\"\n",
    ")\n",
    "\n",
    "summary_prompt = PromptTemplate(template=multi_template_str, input_variables=[\"title\", \"keywords\"])\n",
    "\n",
    "sample_title = \"인공지능 기술의 발전과 미래\"\n",
    "sample_keywords = \"머신러닝, 딥러닝, 산업, 혁신, 사회\"\n",
    "formatted_summary_prompt = summary_prompt.format(title = sample_title, keywords=sample_keywords)\n",
    "print(formatted_summary_prompt)"
   ]
  },
  {
   "cell_type": "code",
   "execution_count": 21,
   "id": "3aa7230e",
   "metadata": {},
   "outputs": [
    {
     "name": "stdout",
     "output_type": "stream",
     "text": [
      "인공지능 기술의 발전은 머신러닝과 딥러닝의 발전을 바탕으로 산업 전반에 혁신을 가져오고 있으며, 이러한 변화는 사회 전반에 걸쳐 큰 영향을 미치고 있습니다.\n"
     ]
    }
   ],
   "source": [
    "result_summary = (summary_prompt | llm).invoke({\n",
    "    \"title\": sample_title,\n",
    "    \"keywords\": sample_keywords\n",
    "})\n",
    "print(result_summary.content)"
   ]
  },
  {
   "cell_type": "markdown",
   "id": "f6cde83a",
   "metadata": {},
   "source": [
    "# ChatPromptTemplate\n",
    "역할기반 프롬프트"
   ]
  },
  {
   "cell_type": "code",
   "execution_count": 22,
   "id": "a929b408",
   "metadata": {},
   "outputs": [],
   "source": [
    "from langchain.prompts import ChatPromptTemplate"
   ]
  },
  {
   "cell_type": "code",
   "execution_count": 23,
   "id": "155b5165",
   "metadata": {},
   "outputs": [
    {
     "name": "stdout",
     "output_type": "stream",
     "text": [
      "[SystemMessage(content='사용자의 프로그래밍 질문에 전문가로써 답변', additional_kwargs={}, response_metadata={}), HumanMessage(content=' 파이썬의 리스트 컴프리헨션과 map의 차이?', additional_kwargs={}, response_metadata={})]\n"
     ]
    }
   ],
   "source": [
    "sys_message = (\n",
    "    \"사용자의 프로그래밍 질문에 전문가로써 답변\"\n",
    ")\n",
    "user_message = \" {question}\" #사용자질문 -> 실행시 입력값으로\n",
    "\n",
    "chat_prompt = ChatPromptTemplate.from_messages([\n",
    "    (\"system\", sys_message),\n",
    "    (\"user\", user_message)\n",
    "])\n",
    "\n",
    "sample_question = \"파이썬의 리스트 컴프리헨션과 map의 차이?\"\n",
    "\n",
    "message = chat_prompt.format_messages(question=sample_question)\n",
    "print(message)"
   ]
  },
  {
   "cell_type": "code",
   "execution_count": 24,
   "id": "287e70cf",
   "metadata": {},
   "outputs": [
    {
     "name": "stdout",
     "output_type": "stream",
     "text": [
      "파이썬에서 리스트 컴프리헨션(List Comprehension)과 `map()` 함수는 모두 기존 시퀀스(리스트, 튜플 등)를 기반으로 새 리스트를 생성하는 방법이지만, 몇 가지 차이점이 있습니다.\n",
      "\n",
      "1. 문법과 가독성\n",
      "   - 리스트 컴프리헨션은 더 직관적이고 간결한 문법을 제공합니다.\n",
      "     ```python\n",
      "     # 리스트 컴프리헨션\n",
      "     squares = [x**2 for x in range(10)]\n",
      "     ```\n",
      "   - `map()`은 함수와 시퀀스를 인자로 받으며, 익명 함수 또는 기존 함수를 사용할 수 있습니다.\n",
      "     ```python\n",
      "     # map() 사용\n",
      "     squares = list(map(lambda x: x**2, range(10)))\n",
      "     ```\n",
      "\n",
      "2. 함수 사용\n",
      "   - 리스트 컴프리헨션은 조건문이나 복잡한 표현식을 포함할 수 있어 유연성이 높습니다.\n",
      "   - `map()`은 주로 기존 함수를 적용하는 데 적합하며, 람다 함수를 함께 사용하면 유사한 기능을 구현할 수 있습니다.\n",
      "\n",
      "3. 성능\n",
      "   - 일반적으로 리스트 컴프리헨션이 `map()`보다 약간 빠른 경우가 많습니다. 하지만 이는 상황에 따라 다를 수 있으며, 명확성과 가독성을 우선시하는 것이 좋습니다.\n",
      "\n",
      "4. 가독성과 사용 용도\n",
      "   - 간단한 변환이나 필터링에는 리스트 컴프리헨션이 더 직관적입니다.\n",
      "   - 이미 정의된 함수를 여러 번 적용하거나, 함수형 프로그래밍 스타일을 선호한다면 `map()`이 적합합니다.\n",
      "\n",
      "요약하면:\n",
      "| 특징 | 리스트 컴프리헨션 | `map()` |\n",
      "|---|---|---|\n",
      "| 문법 | `[expression for item in iterable if condition]` | `map(function, iterable, ...)` |\n",
      "| 가독성 | 높음 | 중간 |\n",
      "| 유연성 | 높음 (복잡한 조건, 표현식 가능) | 제한적 (함수 적용에 적합) |\n",
      "| 성능 | 대체로 빠름 | 비슷하거나 약간 느림 |\n",
      "\n",
      "**추천:** 간단한 변환이나 필터링에는 리스트 컴프리헨션을, 기존 함수를 여러 번 적용하거나 함수형 프로그래밍을 선호한다면 `map()`을 사용하는 것이 좋습니다.\n"
     ]
    }
   ],
   "source": [
    "result = (chat_prompt | llm).invoke({\"question\", sample_question})\n",
    "print(result.content)"
   ]
  },
  {
   "cell_type": "markdown",
   "id": "fe7040e2",
   "metadata": {},
   "source": [
    "# PartialPromptTemplate"
   ]
  },
  {
   "cell_type": "code",
   "execution_count": 25,
   "id": "8ded63a8",
   "metadata": {},
   "outputs": [],
   "source": [
    "from langchain.prompts import SystemMessagePromptTemplate\n",
    "from langchain.prompts import HumanMessagePromptTemplate"
   ]
  },
  {
   "cell_type": "code",
   "execution_count": 27,
   "id": "e8d56c74",
   "metadata": {},
   "outputs": [],
   "source": [
    "role_system_template = \"{role}로써 자세히 답변\"\n",
    "\n",
    "\n",
    "system_prompt = SystemMessagePromptTemplate.from_template(role_system_template)\n",
    "user_prompt = HumanMessagePromptTemplate.from_template(\"{question}\")\n",
    "\n",
    "base_chat_prompt = ChatPromptTemplate.from_messages([system_prompt, user_prompt])\n",
    "\n",
    "partial_chat_prompt = base_chat_prompt.partial(role= \"전문 투자인\")\n"
   ]
  },
  {
   "cell_type": "code",
   "execution_count": 29,
   "id": "90c992de",
   "metadata": {},
   "outputs": [
    {
     "name": "stdout",
     "output_type": "stream",
     "text": [
      "content='2025년 5월 기준 삼성전자 주식 전망에 대해 전문가의 관점에서 분석해 드리겠습니다. 다만, 주식 시장은 다양한 변수에 영향을 받기 때문에 확정적인 예측은 어렵다는 점을 유념하시기 바랍니다.\\n\\n1. 글로벌 반도체 시장 동향\\n- 삼성전자는 글로벌 반도체 시장의 선도 기업으로, D램과 낸드플래시 시장에서 강력한 위치를 유지하고 있습니다.\\n- 2025년까지 반도체 수요는 AI, 5G, 자율주행차, 데이터 센터 등 신기술 확산에 힘입어 지속 성장할 것으로 기대됩니다.\\n- 그러나 공급 과잉이나 가격 변동성, 글로벌 공급망 이슈는 리스크 요인입니다.\\n\\n2. 모바일 및 소비자 가전 부문\\n- 삼성전자는 스마트폰, 가전제품 등에서 강력한 브랜드 파워를 보유하고 있으며, 신기술 도입과 프리미엄 제품 확대를 통해 수익성을 높이고 있습니다.\\n- 2025년에는 폴더블 스마트폰, IoT 가전 등 신시장 개척이 기대됩니다.\\n\\n3. 기술 혁신 및 투자 전략\\n- 삼성전자는 AI, 3nm 공정 등 첨단 기술 개발에 적극 투자하고 있으며, 이는 경쟁 우위 확보에 기여할 전망입니다.\\n- 친환경 및 지속가능경영 전략도 기업 이미지와 장기 성장에 긍정적 영향을 미칠 수 있습니다.\\n\\n4. 글로벌 경제 및 정책 환경\\n- 미국, 중국 등 주요 국가의 무역 정책, 규제, 환율 변동이 삼성전자 실적에 영향을 미칠 수 있습니다.\\n- 글로벌 경기 침체 우려가 커질 경우, 반도체 및 IT 수요 둔화 가능성도 고려해야 합니다.\\n\\n5. 주가 전망\\n- 단기적으로는 글로벌 시장 변동성, 환율, 금리 정책 등에 따라 변동성이 클 수 있습니다.\\n- 장기적으로는 반도체 및 IT 산업의 성장, 삼성전자의 기술력, 시장 점유율 확대 등을 감안할 때 긍정적인 전망도 존재합니다.\\n\\n요약하면, 2025년 5월 기준 삼성전자 주식은 글로벌 기술 수요 증가와 기업의 혁신 전략이 긍정적 영향을 미칠 것으로 기대되나, 시장 변동성, 지정학적 리스크 등도 함께 고려해야 합니다. 투자 결정 전에는 최신 시장 동향과 기업 실적, 정책 변화 등을 면밀히 분석하시기 바랍니다.' additional_kwargs={'refusal': None} response_metadata={'token_usage': {'completion_tokens': 542, 'prompt_tokens': 42, 'total_tokens': 584, 'completion_tokens_details': {'accepted_prediction_tokens': 0, 'audio_tokens': 0, 'reasoning_tokens': 0, 'rejected_prediction_tokens': 0}, 'prompt_tokens_details': {'audio_tokens': 0, 'cached_tokens': 0}}, 'model_name': 'gpt-4.1-nano-2025-04-14', 'system_fingerprint': 'fp_38343a2f8f', 'id': 'chatcmpl-Bk42MeQnvDrAE3fVORBrzLFKDqqU8', 'service_tier': 'default', 'finish_reason': 'stop', 'logprobs': None} id='run--5bba8134-9f9d-40da-b59d-544e20937cb9-0' usage_metadata={'input_tokens': 42, 'output_tokens': 542, 'total_tokens': 584, 'input_token_details': {'audio': 0, 'cache_read': 0}, 'output_token_details': {'audio': 0, 'reasoning': 0}}\n"
     ]
    }
   ],
   "source": [
    "sample_question = \"2025년 5월 시장 상황 기준, 삼성전자 주식 전망은?\"\n",
    "message = (partial_chat_prompt | llm).invoke({\"question\", sample_question})\n",
    "print(message)"
   ]
  },
  {
   "cell_type": "code",
   "execution_count": null,
   "id": "2a9d865f",
   "metadata": {},
   "outputs": [],
   "source": []
  }
 ],
 "metadata": {
  "kernelspec": {
   "display_name": ".venv",
   "language": "python",
   "name": "python3"
  },
  "language_info": {
   "codemirror_mode": {
    "name": "ipython",
    "version": 3
   },
   "file_extension": ".py",
   "mimetype": "text/x-python",
   "name": "python",
   "nbconvert_exporter": "python",
   "pygments_lexer": "ipython3",
   "version": "3.13.2"
  }
 },
 "nbformat": 4,
 "nbformat_minor": 5
}
