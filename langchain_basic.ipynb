{
 "cells": [
  {
   "cell_type": "code",
   "execution_count": 1,
   "id": "c92cdd93",
   "metadata": {},
   "outputs": [
    {
     "name": "stdout",
     "output_type": "stream",
     "text": [
      "OPENAI_API_KEY sk-proj-pw\n"
     ]
    }
   ],
   "source": [
    "from dotenv import load_dotenv\n",
    "import os\n",
    "print(\"OPENAI_API_KEY\", os.getenv(\"OPENAI_API_KEY\")[:10])"
   ]
  },
  {
   "cell_type": "code",
   "execution_count": null,
   "id": "96452020",
   "metadata": {},
   "outputs": [],
   "source": []
  },
  {
   "cell_type": "markdown",
   "id": "9d1a5e34",
   "metadata": {},
   "source": [
    "# Prompt Template"
   ]
  },
  {
   "cell_type": "code",
   "execution_count": 2,
   "id": "5ecb44fe",
   "metadata": {},
   "outputs": [],
   "source": [
    "from langchain_core.prompts import PromptTemplate"
   ]
  },
  {
   "cell_type": "code",
   "execution_count": 5,
   "id": "ed4f6c11",
   "metadata": {},
   "outputs": [],
   "source": [
    "template =\"What is a good name for a company that makes {product}?\"\n",
    "prompt = PromptTemplate.from_template(template)"
   ]
  },
  {
   "cell_type": "code",
   "execution_count": 6,
   "id": "73d34249",
   "metadata": {},
   "outputs": [
    {
     "name": "stdout",
     "output_type": "stream",
     "text": [
      "What is a good name for a company that makes colorful socks?\n"
     ]
    }
   ],
   "source": [
    "formatted_prompt = prompt.format(product=\"colorful socks\")\n",
    "print(formatted_prompt)"
   ]
  },
  {
   "cell_type": "markdown",
   "id": "05cce6d1",
   "metadata": {},
   "source": [
    "# ChatOpenAI"
   ]
  },
  {
   "cell_type": "code",
   "execution_count": 7,
   "id": "c9ee7feb",
   "metadata": {},
   "outputs": [],
   "source": [
    "from langchain_openai import ChatOpenAI"
   ]
  },
  {
   "cell_type": "code",
   "execution_count": 8,
   "id": "c5e54860",
   "metadata": {},
   "outputs": [],
   "source": [
    "llm = ChatOpenAI(model=\"gpt-4.1-nano\", max_tokens=50, temperature=0.2)"
   ]
  },
  {
   "cell_type": "code",
   "execution_count": 9,
   "id": "45f8bad4",
   "metadata": {},
   "outputs": [
    {
     "name": "stdout",
     "output_type": "stream",
     "text": [
      "content=\"Hello! I'm an AI language model here to assist you. How can I help today?\" additional_kwargs={'refusal': None} response_metadata={'token_usage': {'completion_tokens': 18, 'prompt_tokens': 13, 'total_tokens': 31, 'completion_tokens_details': {'accepted_prediction_tokens': 0, 'audio_tokens': 0, 'reasoning_tokens': 0, 'rejected_prediction_tokens': 0}, 'prompt_tokens_details': {'audio_tokens': 0, 'cached_tokens': 0}}, 'model_name': 'gpt-4.1-nano-2025-04-14', 'system_fingerprint': 'fp_38343a2f8f', 'id': 'chatcmpl-Bk2PQwSZEiNNfSuyYbpjhp6J0SjcW', 'service_tier': 'default', 'finish_reason': 'stop', 'logprobs': None} id='run--a018710a-80ed-4d2d-8084-654df1cb30f8-0' usage_metadata={'input_tokens': 13, 'output_tokens': 18, 'total_tokens': 31, 'input_token_details': {'audio': 0, 'cache_read': 0}, 'output_token_details': {'audio': 0, 'reasoning': 0}}\n",
      "Hello! I'm an AI language model here to assist you. How can I help today?\n"
     ]
    }
   ],
   "source": [
    "response = llm.invoke([(\"human\", \"Hello, who are you?\")])\n",
    "print(response)\n",
    "print(response.content)"
   ]
  },
  {
   "cell_type": "markdown",
   "id": "ee4cfeef",
   "metadata": {},
   "source": [
    "# Runnabel\n",
    "Runnabel 인터페이스 : 실행가능 구성 요소. 서로 다른 컴포넌트들이 호환되는 형태로 결합되게"
   ]
  },
  {
   "cell_type": "markdown",
   "id": "8b3b49a7",
   "metadata": {},
   "source": [
    "# StrOutputParser"
   ]
  },
  {
   "cell_type": "code",
   "execution_count": 10,
   "id": "abb6a787",
   "metadata": {},
   "outputs": [],
   "source": [
    "from langchain_core.output_parsers import StrOutputParser"
   ]
  },
  {
   "cell_type": "code",
   "execution_count": 11,
   "id": "c58360f5",
   "metadata": {},
   "outputs": [
    {
     "name": "stdout",
     "output_type": "stream",
     "text": [
      "Hello! I'm an AI language model here to assist you. How can I help today?\n"
     ]
    }
   ],
   "source": [
    "parser = StrOutputParser()\n",
    "parsed_response = parser.invoke(response)\n",
    "print(parsed_response)"
   ]
  },
  {
   "cell_type": "markdown",
   "id": "0e2a4420",
   "metadata": {},
   "source": [
    "# Pipeline, LCEL (Langchain Expression Language)"
   ]
  },
  {
   "cell_type": "code",
   "execution_count": 12,
   "id": "ad1aeb24",
   "metadata": {},
   "outputs": [],
   "source": [
    "chain = prompt | llm | parser "
   ]
  },
  {
   "cell_type": "code",
   "execution_count": 13,
   "id": "8135bfbb",
   "metadata": {},
   "outputs": [
    {
     "name": "stdout",
     "output_type": "stream",
     "text": [
      "Sure! Here are some creative and appealing name ideas for a coffee company:\n",
      "\n",
      "1. Brew Haven  \n",
      "2. Java Junction  \n",
      "3. Morning Mug  \n",
      "4. Bean & Bliss  \n",
      "5. Rise & Roast  \n",
      "6. Caffeine Craft  \n",
      "7.\n"
     ]
    }
   ],
   "source": [
    "result = chain.invoke({\"product\" : \"coffee\"})\n",
    "print(result)"
   ]
  },
  {
   "cell_type": "markdown",
   "id": "3af7ac23",
   "metadata": {},
   "source": [
    "# Langchain으로 토큰 사용량 추적"
   ]
  },
  {
   "cell_type": "code",
   "execution_count": 14,
   "id": "596e95f2",
   "metadata": {},
   "outputs": [
    {
     "name": "stdout",
     "output_type": "stream",
     "text": [
      "토큰 사용 정보 :  {'input_tokens': 13, 'output_tokens': 18, 'total_tokens': 31, 'input_token_details': {'audio': 0, 'cache_read': 0}, 'output_token_details': {'audio': 0, 'reasoning': 0}}\n"
     ]
    }
   ],
   "source": [
    "print(\"토큰 사용 정보 : \", response.usage_metadata)"
   ]
  },
  {
   "cell_type": "code",
   "execution_count": 15,
   "id": "eddeb1db",
   "metadata": {},
   "outputs": [
    {
     "name": "stderr",
     "output_type": "stream",
     "text": [
      "\u001b[2mResolved \u001b[1m58 packages\u001b[0m \u001b[2min 557ms\u001b[0m\u001b[0m\n",
      "\u001b[36m\u001b[1mDownloading\u001b[0m\u001b[39m langchain-community \u001b[2m(2.4MiB)\u001b[0m\n",
      " \u001b[32m\u001b[1mDownloaded\u001b[0m\u001b[39m langchain-community\n",
      "\u001b[2mPrepared \u001b[1m14 packages\u001b[0m \u001b[2min 5.15s\u001b[0m\u001b[0m\n",
      "\u001b[2mInstalled \u001b[1m15 packages\u001b[0m \u001b[2min 705ms\u001b[0m\u001b[0m\n",
      " \u001b[32m+\u001b[39m \u001b[1maiohappyeyeballs\u001b[0m\u001b[2m==2.6.1\u001b[0m\n",
      " \u001b[32m+\u001b[39m \u001b[1maiohttp\u001b[0m\u001b[2m==3.12.13\u001b[0m\n",
      " \u001b[32m+\u001b[39m \u001b[1maiosignal\u001b[0m\u001b[2m==1.3.2\u001b[0m\n",
      " \u001b[32m+\u001b[39m \u001b[1mdataclasses-json\u001b[0m\u001b[2m==0.6.7\u001b[0m\n",
      " \u001b[32m+\u001b[39m \u001b[1mfrozenlist\u001b[0m\u001b[2m==1.7.0\u001b[0m\n",
      " \u001b[32m+\u001b[39m \u001b[1mhttpx-sse\u001b[0m\u001b[2m==0.4.0\u001b[0m\n",
      " \u001b[32m+\u001b[39m \u001b[1mlangchain-community\u001b[0m\u001b[2m==0.3.25\u001b[0m\n",
      " \u001b[32m+\u001b[39m \u001b[1mmarshmallow\u001b[0m\u001b[2m==3.26.1\u001b[0m\n",
      " \u001b[32m+\u001b[39m \u001b[1mmultidict\u001b[0m\u001b[2m==6.5.0\u001b[0m\n",
      " \u001b[32m+\u001b[39m \u001b[1mmypy-extensions\u001b[0m\u001b[2m==1.1.0\u001b[0m\n",
      " \u001b[32m+\u001b[39m \u001b[1mnumpy\u001b[0m\u001b[2m==2.3.0\u001b[0m\n",
      " \u001b[32m+\u001b[39m \u001b[1mpropcache\u001b[0m\u001b[2m==0.3.2\u001b[0m\n",
      " \u001b[32m+\u001b[39m \u001b[1mpydantic-settings\u001b[0m\u001b[2m==2.9.1\u001b[0m\n",
      " \u001b[32m+\u001b[39m \u001b[1mtyping-inspect\u001b[0m\u001b[2m==0.9.0\u001b[0m\n",
      " \u001b[32m+\u001b[39m \u001b[1myarl\u001b[0m\u001b[2m==1.20.1\u001b[0m\n"
     ]
    }
   ],
   "source": [
    "!uv add langchain_community"
   ]
  },
  {
   "cell_type": "code",
   "execution_count": 16,
   "id": "106678b4",
   "metadata": {},
   "outputs": [],
   "source": [
    "# 콜백을 통한 누적 토큰 추적\n",
    "from langchain_community.callbacks import get_openai_callback"
   ]
  },
  {
   "cell_type": "code",
   "execution_count": 19,
   "id": "404d21cf",
   "metadata": {},
   "outputs": [
    {
     "name": "stdout",
     "output_type": "stream",
     "text": [
      "응답: 죄송합니다만, 현재 실시간 날씨 정보를 제공할 수 없습...\n",
      "응답: 파이썬에서 리스트를 만드는 방법은 여러 가지가 있습니다...\n"
     ]
    }
   ],
   "source": [
    "with get_openai_callback() as cb:\n",
    "    res1 = llm.invoke(\"조치원의 오늘 날씨는?\")\n",
    "    print(f\"응답: {res1.content[:30]}...\")\n",
    "\n",
    "    res2 = llm.invoke(\"파이썬으로 리스트 만드는 법?\")\n",
    "    print(f\"응답: {res2.content[:30]}...\")\n"
   ]
  },
  {
   "cell_type": "code",
   "execution_count": 20,
   "id": "0699c5c0",
   "metadata": {},
   "outputs": [
    {
     "name": "stdout",
     "output_type": "stream",
     "text": [
      "\n",
      "--- 사용량 요약 ---\n",
      "총 토큰 수: 123\n",
      "프롬프트 토큰 수: 31\n",
      "응답 토큰 수: 92\n",
      "총 비용 (USD): $0.000040\n"
     ]
    }
   ],
   "source": [
    "    # 토큰 및 비용 출력\n",
    "    print(\"\\n--- 사용량 요약 ---\")\n",
    "    print(f\"총 토큰 수: {cb.total_tokens}\")\n",
    "    print(f\"프롬프트 토큰 수: {cb.prompt_tokens}\")\n",
    "    print(f\"응답 토큰 수: {cb.completion_tokens}\")\n",
    "    print(f\"총 비용 (USD): ${cb.total_cost:.6f}\")"
   ]
  },
  {
   "cell_type": "markdown",
   "id": "261b30ec",
   "metadata": {},
   "source": [
    "# LangChain LLM 응답 캐싱"
   ]
  },
  {
   "cell_type": "code",
   "execution_count": 21,
   "id": "7765acbd",
   "metadata": {},
   "outputs": [],
   "source": [
    "from langchain_core.caches import InMemoryCache\n",
    "from langchain_core.globals import set_llm_cache\n",
    "# InMemoryCache 설정\n",
    "set_llm_cache(InMemoryCache())"
   ]
  },
  {
   "cell_type": "code",
   "execution_count": null,
   "id": "cc8b0c59",
   "metadata": {},
   "outputs": [
    {
     "name": "stdout",
     "output_type": "stream",
     "text": [
      "응답2:  물론이죠! 여기 재미있는 유머 하나 소개할게요:\n",
      "\n",
      "왜 컴퓨터는 피곤하지 않을까?  \n",
      "왜냐하면 항상 휴식을 취하는 ‘윈도우’가 있기 때문이야!  \n",
      "\n",
      "더 웃긴\n"
     ]
    }
   ],
   "source": [
    "query = \"재밌는 유머 추천\"\n",
    "result1 = llm.invoke(query)\n",
    "print(\"응답1: \", result1.content)"
   ]
  },
  {
   "cell_type": "code",
   "execution_count": null,
   "id": "d6bd23bc",
   "metadata": {},
   "outputs": [
    {
     "name": "stdout",
     "output_type": "stream",
     "text": [
      "응답2:  물론이죠! 여기 재미있는 유머 하나 소개할게요:\n",
      "\n",
      "왜 컴퓨터는 피곤하지 않을까?  \n",
      "왜냐하면 항상 휴식을 취하는 ‘윈도우’가 있기 때문이야!  \n",
      "\n",
      "더 웃긴\n"
     ]
    }
   ],
   "source": [
    "result2 = llm.invoke(query)\n",
    "print(\"응답2: \", result2.content)"
   ]
  },
  {
   "cell_type": "code",
   "execution_count": 26,
   "id": "db26c3cd",
   "metadata": {},
   "outputs": [],
   "source": [
    "# SQLite 를 이용 디스크 기반 캐시 설정\n",
    "import os\n",
    "from langchain_community.cache import SQLiteCache"
   ]
  },
  {
   "cell_type": "code",
   "execution_count": 28,
   "id": "59da6075",
   "metadata": {},
   "outputs": [],
   "source": [
    "# 기존 캐시 DB 삭제 (실습용)\n",
    "if os.path.exists(\".langchain_cache.db\"):\n",
    "    os.remove(\".langchain_cache.db\")"
   ]
  },
  {
   "cell_type": "code",
   "execution_count": null,
   "id": "21f06e5c",
   "metadata": {},
   "outputs": [],
   "source": []
  }
 ],
 "metadata": {
  "kernelspec": {
   "display_name": ".venv",
   "language": "python",
   "name": "python3"
  },
  "language_info": {
   "codemirror_mode": {
    "name": "ipython",
    "version": 3
   },
   "file_extension": ".py",
   "mimetype": "text/x-python",
   "name": "python",
   "nbconvert_exporter": "python",
   "pygments_lexer": "ipython3",
   "version": "3.13.2"
  }
 },
 "nbformat": 4,
 "nbformat_minor": 5
}
