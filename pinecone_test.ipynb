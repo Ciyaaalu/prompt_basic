{
 "cells": [
  {
   "cell_type": "markdown",
   "id": "9c8f03c3",
   "metadata": {},
   "source": [
    "# Pinecone 환경 설정 확인"
   ]
  },
  {
   "cell_type": "code",
   "execution_count": 6,
   "id": "4832db68",
   "metadata": {},
   "outputs": [],
   "source": [
    "from dotenv import load_dotenv\n",
    "import os\n",
    "\n",
    "import pinecone\n",
    "from pinecone import Pinecone as PineconeClient\n",
    "from pinecone import ServerlessSpec"
   ]
  },
  {
   "cell_type": "code",
   "execution_count": 7,
   "id": "e12893fd",
   "metadata": {},
   "outputs": [
    {
     "name": "stdout",
     "output_type": "stream",
     "text": [
      "pcsk_2jise\n",
      "us-east-1-\n"
     ]
    }
   ],
   "source": [
    "pinecone_api_key = os.getenv(\"PINECONE_API_KEY\")\n",
    "pinecone_environment = os.getenv(\"PINECONE_ENVIRONMENT\")\n",
    "print(pinecone_api_key[:10])\n",
    "print(pinecone_environment[:10])"
   ]
  },
  {
   "cell_type": "code",
   "execution_count": 8,
   "id": "3793f090",
   "metadata": {},
   "outputs": [],
   "source": [
    "pc = PineconeClient(api_key=pinecone_api_key, environment =pinecone_environment)"
   ]
  },
  {
   "cell_type": "code",
   "execution_count": 12,
   "id": "38bb0076",
   "metadata": {},
   "outputs": [],
   "source": [
    "#서비스 서버에 없으면 인덱스 생성\n",
    "index_name = \"example-index\"\n",
    "embedding_dim = 1536 #text-embedding-3-small의 벡터차원\n",
    "if not pc.has_index(index_name):\n",
    "    pc.create_index(\n",
    "        name=index_name, \n",
    "        dimension=embedding_dim,\n",
    "        spec=ServerlessSpec(\n",
    "            cloud=\"aws\",\n",
    "            region=\"us-east-1\",\n",
    "        ),\n",
    "    )"
   ]
  },
  {
   "cell_type": "code",
   "execution_count": 14,
   "id": "805bc987",
   "metadata": {},
   "outputs": [],
   "source": [
    "#서비스 서버의 인덱스와 연결\n",
    "index = pc.Index(index_name)"
   ]
  },
  {
   "cell_type": "code",
   "execution_count": 15,
   "id": "f7a10ad0",
   "metadata": {},
   "outputs": [],
   "source": [
    "# OpenAI의 임베딩 모델 설정: text-embedding-3-small\n",
    "from langchain_openai import OpenAIEmbeddings\n",
    "embeddings = OpenAIEmbeddings(model=\"text-embedding-3-small\")"
   ]
  },
  {
   "cell_type": "code",
   "execution_count": 17,
   "id": "ff35d7b3",
   "metadata": {},
   "outputs": [],
   "source": [
    "from langchain_core.documents import Document\n",
    "\n",
    "# 예시 문서 생성 (내용과 메타데이터)\n",
    "doc1 = Document(page_content=\"Building an exciting new project with LangChain - come check it out!\",\n",
    "                metadata={\"source\": \"tweet\"})\n",
    "\n",
    "doc2 = Document(page_content=\"The weather forecast for tomorrow is cloudy and overcast, with a high of 62 degrees.\",\n",
    "                metadata={\"source\": \"news\"})\n",
    "\n",
    "doc3 = Document(page_content=\"LangGraph is the best framework for building stateful, agentic applications!\",\n",
    "                metadata={\"source\": \"tweet\"})\n"
   ]
  },
  {
   "cell_type": "code",
   "execution_count": 19,
   "id": "5a75417e",
   "metadata": {},
   "outputs": [],
   "source": [
    "from langchain_pinecone import PineconeVectorStore\n",
    "vector_store = PineconeVectorStore(index=index, embedding=embeddings)"
   ]
  },
  {
   "cell_type": "code",
   "execution_count": 20,
   "id": "56c463d1",
   "metadata": {},
   "outputs": [
    {
     "data": {
      "text/plain": [
       "['474a4424-6395-4caf-ba34-e352b42e13de',\n",
       " '870845b4-cdea-4b07-b1e7-619dd7c35a25',\n",
       " '7d6ebe46-96c5-428f-8899-55983d9667ec']"
      ]
     },
     "execution_count": 20,
     "metadata": {},
     "output_type": "execute_result"
    }
   ],
   "source": [
    "vector_store.add_documents([doc1, doc2, doc3])"
   ]
  },
  {
   "cell_type": "code",
   "execution_count": 21,
   "id": "06f613fe",
   "metadata": {},
   "outputs": [
    {
     "name": "stdout",
     "output_type": "stream",
     "text": [
      "쿼리 : LangChain은 LLM을 쉽게 작업할 수 있도록 추상화 제공\n",
      "* Building an exciting new project with LangChain - come check it out! (source: tweet)\n",
      "* LangGraph is the best framework for building stateful, agentic applications! (source: tweet)\n"
     ]
    }
   ],
   "source": [
    "#쿼리 해보기\n",
    "query1 = \"LangChain은 LLM을 쉽게 작업할 수 있도록 추상화 제공\"\n",
    "results1 = vector_store.similarity_search(query=query1, k=2)\n",
    "print(f\"쿼리 : {query1}\")\n",
    "for result in results1:\n",
    "    print(f\"* {result.page_content} (source: {result.metadata['source']})\")\n"
   ]
  },
  {
   "cell_type": "code",
   "execution_count": null,
   "id": "4c7ca105",
   "metadata": {},
   "outputs": [
    {
     "name": "stdout",
     "output_type": "stream",
     "text": [
      "쿼리 : LangChain은 LLM을 쉽게 작업할 수 있도록 추상화 제공\n",
      "* Building an exciting new project with LangChain - come check it out! (source: tweet)\n",
      "* LangGraph is the best framework for building stateful, agentic applications! (source: tweet)\n"
     ]
    }
   ],
   "source": [
    "results2 = vector_store.similarity_search(query=query1, k=2, filter={\"source\": \"tweet\"})\n",
    "print(f\"쿼리 : {query1}\")\n",
    "for result in results2:\n",
    "    print(f\"* {result.page_content} (source: {result.metadata['source']})\")"
   ]
  },
  {
   "cell_type": "code",
   "execution_count": 28,
   "id": "e66e159e",
   "metadata": {},
   "outputs": [
    {
     "name": "stdout",
     "output_type": "stream",
     "text": [
      "쿼리 : Will it be hot tomorrow\n",
      "* SIM=(0.5440)The weather forecast for tomorrow is cloudy and overcast, with a high of 62 degrees. (source: news)\n"
     ]
    }
   ],
   "source": [
    "query3 = \"Will it be hot tomorrow\"\n",
    "results3 = vector_store.similarity_search_with_score(query=query3, k=3, filter={\"source\": \"news\"})\n",
    "print(f\"쿼리 : {query3}\")\n",
    "for result, score in results3:\n",
    "    print(f\"* SIM=({score:.4f}){result.page_content} (source: {result.metadata['source']})\")"
   ]
  },
  {
   "cell_type": "code",
   "execution_count": null,
   "id": "5f3a4729",
   "metadata": {},
   "outputs": [],
   "source": []
  }
 ],
 "metadata": {
  "kernelspec": {
   "display_name": ".venv",
   "language": "python",
   "name": "python3"
  },
  "language_info": {
   "codemirror_mode": {
    "name": "ipython",
    "version": 3
   },
   "file_extension": ".py",
   "mimetype": "text/x-python",
   "name": "python",
   "nbconvert_exporter": "python",
   "pygments_lexer": "ipython3",
   "version": "3.13.2"
  }
 },
 "nbformat": 4,
 "nbformat_minor": 5
}
