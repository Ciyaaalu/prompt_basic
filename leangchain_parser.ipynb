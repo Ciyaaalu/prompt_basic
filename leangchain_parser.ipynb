{
 "cells": [
  {
   "cell_type": "markdown",
   "id": "5bb8722c",
   "metadata": {},
   "source": [
    "# Output Parser\n",
    "\n",
    "StrOutputParser\n",
    "JsonOutputParser\n",
    "CommaSeperatedListOutputParser"
   ]
  },
  {
   "cell_type": "code",
   "execution_count": 13,
   "id": "6d7ac511",
   "metadata": {},
   "outputs": [],
   "source": [
    "from langchain.prompts import PromptTemplate\n",
    "from langchain_core.output_parsers import StrOutputParser\n",
    "from langchain_openai import ChatOpenAI"
   ]
  },
  {
   "cell_type": "code",
   "execution_count": 14,
   "id": "d8eb5d9e",
   "metadata": {},
   "outputs": [],
   "source": [
    "llm = ChatOpenAI(model=\"gpt-4.1-nano\", temperature=0)\n",
    "output_parser = StrOutputParser()\n",
    "prompt = PromptTemplate(template=\"질문 : {question}한 단어로 답하세요\", input_variables=[\"question\"])\n",
    "chain = prompt | llm | output_parser"
   ]
  },
  {
   "cell_type": "code",
   "execution_count": 15,
   "id": "4c23bd1b",
   "metadata": {},
   "outputs": [
    {
     "name": "stdout",
     "output_type": "stream",
     "text": [
      "한국\n"
     ]
    }
   ],
   "source": [
    "query = {\"question\" : \"서울은 어느나라의 수도?\"}\n",
    "result = chain.invoke   (query)\n",
    "print(result)"
   ]
  },
  {
   "cell_type": "markdown",
   "id": "7c12efa9",
   "metadata": {},
   "source": [
    "# CommaSeparated List Output Parser"
   ]
  },
  {
   "cell_type": "code",
   "execution_count": 16,
   "id": "4df19946",
   "metadata": {},
   "outputs": [],
   "source": [
    "from langchain_core.output_parsers import CommaSeparatedListOutputParser"
   ]
  },
  {
   "cell_type": "code",
   "execution_count": 17,
   "id": "a8001802",
   "metadata": {},
   "outputs": [
    {
     "name": "stdout",
     "output_type": "stream",
     "text": [
      "Your response should be a list of comma separated values, eg: `foo, bar, baz` or `foo,bar,baz`\n"
     ]
    }
   ],
   "source": [
    "cs_list_parser =CommaSeparatedListOutputParser()\n",
    "format_instructions = cs_list_parser.get_format_instructions()\n",
    "print(format_instructions)"
   ]
  },
  {
   "cell_type": "code",
   "execution_count": 20,
   "id": "0a439064",
   "metadata": {},
   "outputs": [],
   "source": [
    "format_instructions_ko =\"응답은 쉼표로 구분된 값의 목록 형태로 출력\"\n",
    "prompt = PromptTemplate(template=\"다음 {item} 5가지를 나열. \\n {format_instructions}\",\n",
    "                        input_variables=[\"item\"],\n",
    "                        partial_variables={\"format_instructions\": format_instructions_ko}\n",
    "                        )\n",
    "chain = prompt | llm | cs_list_parser"
   ]
  },
  {
   "cell_type": "code",
   "execution_count": 21,
   "id": "438da275",
   "metadata": {},
   "outputs": [
    {
     "name": "stdout",
     "output_type": "stream",
     "text": [
      "['바닐라', '초콜릿', '딸기', '민트 초콜릿 칩', '녹차']\n"
     ]
    }
   ],
   "source": [
    "input_data = {\"item\": \"아이스크림 맛\"}\n",
    "result_list = chain.invoke(input_data)\n",
    "print(result_list)"
   ]
  },
  {
   "cell_type": "markdown",
   "id": "634831a7",
   "metadata": {},
   "source": [
    "# Json Output Parser"
   ]
  },
  {
   "cell_type": "code",
   "execution_count": null,
   "id": "dbc03ecd",
   "metadata": {},
   "outputs": [],
   "source": [
    "from langchain_core.output_parsers import JsonOutputParser"
   ]
  },
  {
   "cell_type": "code",
   "execution_count": null,
   "id": "f428d60b",
   "metadata": {},
   "outputs": [],
   "source": [
    "json_parser = JsonOutputParser()\n",
    "movie_prompt = PromptTemplate(\n",
    "    template=(\n",
    "        \"사용자의 취향에 따른 영화 추천. \\n\"\n",
    "        \"취향: {preferences}\\n\\n\"\n",
    "        \"아래 형식의 Json으로만 답변: \\n\"\n",
    "        '{{\"title\": \"<영화제목>\", \"year\": <출시년도>, \"genre\": \"<장르>\"}}'\n",
    "    ),\n",
    "    input_variables=[\"preferences\"]\n",
    ")\n",
    "llm = ChatOpenAI(model=\"gpt-4.1-nano\", temperature=0)\n",
    "chain = movie_prompt | llm | json_parser"
   ]
  },
  {
   "cell_type": "code",
   "execution_count": null,
   "id": "0a3b0076",
   "metadata": {},
   "outputs": [
    {
     "name": "stdout",
     "output_type": "stream",
     "text": [
      "{'title': 'The Conjuring', 'year': 2013, 'genre': 'Horror'}\n"
     ]
    }
   ],
   "source": [
    "user_input = {\"preferences\": \"Horror\"}\n",
    "result = chain.invoke(user_input)\n",
    "print(result)"
   ]
  },
  {
   "cell_type": "code",
   "execution_count": null,
   "id": "39037429",
   "metadata": {},
   "outputs": [],
   "source": []
  }
 ],
 "metadata": {
  "kernelspec": {
   "display_name": ".venv",
   "language": "python",
   "name": "python3"
  },
  "language_info": {
   "codemirror_mode": {
    "name": "ipython",
    "version": 3
   },
   "file_extension": ".py",
   "mimetype": "text/x-python",
   "name": "python",
   "nbconvert_exporter": "python",
   "pygments_lexer": "ipython3",
   "version": "3.13.2"
  }
 },
 "nbformat": 4,
 "nbformat_minor": 5
}
